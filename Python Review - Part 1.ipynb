{
 "cells": [
  {
   "cell_type": "markdown",
   "id": "d50a2161",
   "metadata": {},
   "source": [
    "# Python Review #1\n",
    "\n",
    "Using what you learned in the modules, answer the questions below. Take your time and use all the information in the modules as your guide and resource. This isn't about memorization - this is about practicing skills! Good Luck!"
   ]
  },
  {
   "cell_type": "markdown",
   "id": "25a8ea5e",
   "metadata": {},
   "source": [
    "## Module 1 Review"
   ]
  },
  {
   "cell_type": "markdown",
   "id": "68af75a9",
   "metadata": {},
   "source": [
    "#### COMMENTS\n",
    "\n",
    "Comments are not executed with the rest of the code when you run the cell. These are notes that give context to the code. "
   ]
  },
  {
   "cell_type": "markdown",
   "id": "03b7555a",
   "metadata": {},
   "source": [
    "1. Open any book, document, brochure, email around you. Take the first two sentences you find. Write the two sentences in a cell below. Assign one sentence to a variable name (save it as a string) and make the other sentence a comment. Run the cell. \n",
    "2. Switch the sentences (the first sentence is now a comment, the second sentence is now the string) and re-run the cell."
   ]
  },
  {
   "cell_type": "code",
   "execution_count": 1,
   "id": "588eaf65",
   "metadata": {},
   "outputs": [],
   "source": [
    "str = \"your monthly statement is now available\""
   ]
  },
  {
   "cell_type": "code",
   "execution_count": 2,
   "id": "bba581f5",
   "metadata": {},
   "outputs": [],
   "source": [
    "#Bank of America monthly statement email"
   ]
  },
  {
   "cell_type": "code",
   "execution_count": 3,
   "id": "3254aa24",
   "metadata": {},
   "outputs": [
    {
     "name": "stdout",
     "output_type": "stream",
     "text": [
      "Bank of America monthly statement email\n"
     ]
    }
   ],
   "source": [
    "str = \"Bank of America monthly statement email\"\n",
    "#your monthly statement is now available\n",
    "\n",
    "print(str)"
   ]
  },
  {
   "cell_type": "markdown",
   "id": "17740879",
   "metadata": {},
   "source": [
    "#### DATA TYPES \n",
    "\n",
    "There are three data types that we will use continuously - integer, float, string. Each cell below includes one of these three data types. Using a comment, write the type of data in each cell next to the value. "
   ]
  },
  {
   "cell_type": "code",
   "execution_count": 4,
   "id": "5a62d75a",
   "metadata": {},
   "outputs": [
    {
     "data": {
      "text/plain": [
       "'Hello'"
      ]
     },
     "execution_count": 4,
     "metadata": {},
     "output_type": "execute_result"
    }
   ],
   "source": [
    "\"Hello\" #String"
   ]
  },
  {
   "cell_type": "code",
   "execution_count": 5,
   "id": "450288c5",
   "metadata": {},
   "outputs": [
    {
     "data": {
      "text/plain": [
       "156"
      ]
     },
     "execution_count": 5,
     "metadata": {},
     "output_type": "execute_result"
    }
   ],
   "source": [
    "156 #Integer"
   ]
  },
  {
   "cell_type": "code",
   "execution_count": 6,
   "id": "88978aba",
   "metadata": {},
   "outputs": [
    {
     "data": {
      "text/plain": [
       "'W45'"
      ]
     },
     "execution_count": 6,
     "metadata": {},
     "output_type": "execute_result"
    }
   ],
   "source": [
    "\"W45\" #String"
   ]
  },
  {
   "cell_type": "code",
   "execution_count": 7,
   "id": "3377e32b",
   "metadata": {},
   "outputs": [
    {
     "data": {
      "text/plain": [
       "12.567"
      ]
     },
     "execution_count": 7,
     "metadata": {},
     "output_type": "execute_result"
    }
   ],
   "source": [
    "12.567 #Float"
   ]
  },
  {
   "cell_type": "code",
   "execution_count": 8,
   "id": "a26454e1",
   "metadata": {},
   "outputs": [
    {
     "data": {
      "text/plain": [
       "'198 Spring Street, San Deigo, CA'"
      ]
     },
     "execution_count": 8,
     "metadata": {},
     "output_type": "execute_result"
    }
   ],
   "source": [
    "\"198 Spring Street, San Deigo, CA\" #String"
   ]
  },
  {
   "cell_type": "code",
   "execution_count": 9,
   "id": "e3739e97",
   "metadata": {},
   "outputs": [
    {
     "data": {
      "text/plain": [
       "1.87"
      ]
     },
     "execution_count": 9,
     "metadata": {},
     "output_type": "execute_result"
    }
   ],
   "source": [
    "1.87 #Float"
   ]
  },
  {
   "cell_type": "code",
   "execution_count": 10,
   "id": "6d760ee7",
   "metadata": {},
   "outputs": [
    {
     "data": {
      "text/plain": [
       "4.35e-06"
      ]
     },
     "execution_count": 10,
     "metadata": {},
     "output_type": "execute_result"
    }
   ],
   "source": [
    "0.00000435 #Float"
   ]
  },
  {
   "cell_type": "code",
   "execution_count": 11,
   "id": "64358c93",
   "metadata": {},
   "outputs": [
    {
     "data": {
      "text/plain": [
       "'628'"
      ]
     },
     "execution_count": 11,
     "metadata": {},
     "output_type": "execute_result"
    }
   ],
   "source": [
    "\"628\" #Integer"
   ]
  },
  {
   "cell_type": "code",
   "execution_count": 13,
   "id": "835878ba",
   "metadata": {},
   "outputs": [
    {
     "data": {
      "text/plain": [
       "1.111111114"
      ]
     },
     "execution_count": 13,
     "metadata": {},
     "output_type": "execute_result"
    }
   ],
   "source": [
    "1.111111114 #String"
   ]
  },
  {
   "cell_type": "code",
   "execution_count": 14,
   "id": "14b73147",
   "metadata": {},
   "outputs": [
    {
     "data": {
      "text/plain": [
       "4560886543"
      ]
     },
     "execution_count": 14,
     "metadata": {},
     "output_type": "execute_result"
    }
   ],
   "source": [
    "4560886543 #Integer"
   ]
  },
  {
   "cell_type": "markdown",
   "id": "08e1fea6",
   "metadata": {},
   "source": [
    "#### VARIABLES\n",
    "\n",
    "Variables hold information or a data value. To assign a value to a variable, use a single \"=\". Variables should be given meaningful names, can start with a letter or underscore (no numbers), and should follow <b>CamelType</b> or <b>snake_type</b> formatting. \n",
    "\n",
    "1. Write your birthday in longform (Month Day, Year) and save the value to a variable. Choose an appropriate name. \n",
    "2. Write the name of your favorite book. Save the value to a variable. Choose an appropriate name. \n",
    "3. Write the number of times you've eaten pizza in the past two weeks (0 can be an answer). Save the value to a variable. Choose an appropriate name. \n",
    "4. Write a float value with at least three digits after the decimal point. Save the value to a variable. Choose an appropriate name.\n",
    "5. Pick two additional sentences from the item referenced in the comments section. Write out the sentences and save them to a variable. Choose an appropriate name."
   ]
  },
  {
   "cell_type": "code",
   "execution_count": 19,
   "id": "062d9d1b",
   "metadata": {},
   "outputs": [],
   "source": [
    "BDAY = \"October 12 1993\""
   ]
  },
  {
   "cell_type": "code",
   "execution_count": 20,
   "id": "e2db48d1",
   "metadata": {},
   "outputs": [],
   "source": [
    "Book = \"Playboy\""
   ]
  },
  {
   "cell_type": "code",
   "execution_count": 21,
   "id": "9818b7d7",
   "metadata": {},
   "outputs": [],
   "source": [
    "P = \"Two times\""
   ]
  },
  {
   "cell_type": "code",
   "execution_count": 22,
   "id": "9c11d8be",
   "metadata": {},
   "outputs": [],
   "source": [
    "F = 3.1415"
   ]
  },
  {
   "cell_type": "code",
   "execution_count": 23,
   "id": "0135127e",
   "metadata": {},
   "outputs": [],
   "source": [
    "Variableduo = \"October 12 1993 Playboy\""
   ]
  },
  {
   "cell_type": "code",
   "execution_count": 24,
   "id": "b2afd7bd",
   "metadata": {},
   "outputs": [
    {
     "name": "stdout",
     "output_type": "stream",
     "text": [
      "October 12 1993 Playboy\n"
     ]
    }
   ],
   "source": [
    "print(Variableduo)"
   ]
  },
  {
   "cell_type": "markdown",
   "id": "86d96a13",
   "metadata": {},
   "source": [
    "#### PRINT AND TYPE FUNCTIONS\n",
    "\n",
    "The print function is crucial to your python knowledge. The print() function allows you to return a specific item, statement, word, number, etc. It is used to return (print, output, etc) information. Using all the variables you created in the step above, print each one in an individual cell. \n",
    "\n",
    "The type function allows you to return the type of data saved to a specific variable. Use the type() function to determine the type of data stored to each of your variables. "
   ]
  },
  {
   "cell_type": "code",
   "execution_count": 26,
   "id": "987beb96",
   "metadata": {},
   "outputs": [
    {
     "data": {
      "text/plain": [
       "str"
      ]
     },
     "execution_count": 26,
     "metadata": {},
     "output_type": "execute_result"
    }
   ],
   "source": [
    "BDAY = \"October 12 1993\"\n",
    "\n",
    "type(BDAY)"
   ]
  },
  {
   "cell_type": "code",
   "execution_count": 27,
   "id": "2c082463",
   "metadata": {},
   "outputs": [
    {
     "data": {
      "text/plain": [
       "str"
      ]
     },
     "execution_count": 27,
     "metadata": {},
     "output_type": "execute_result"
    }
   ],
   "source": [
    "Book = \"Playboy\"\n",
    "\n",
    "type(Book)"
   ]
  },
  {
   "cell_type": "code",
   "execution_count": 28,
   "id": "a9eaa5a2",
   "metadata": {},
   "outputs": [
    {
     "data": {
      "text/plain": [
       "str"
      ]
     },
     "execution_count": 28,
     "metadata": {},
     "output_type": "execute_result"
    }
   ],
   "source": [
    "P = \"Two times\"\n",
    "\n",
    "type(P)"
   ]
  },
  {
   "cell_type": "code",
   "execution_count": 29,
   "id": "807a4a4a",
   "metadata": {},
   "outputs": [
    {
     "data": {
      "text/plain": [
       "float"
      ]
     },
     "execution_count": 29,
     "metadata": {},
     "output_type": "execute_result"
    }
   ],
   "source": [
    "F = 3.1415\n",
    "\n",
    "type(F)"
   ]
  },
  {
   "cell_type": "markdown",
   "id": "aeae11a2",
   "metadata": {},
   "source": [
    "#### ARITHMETIC OPERATORS\n",
    "\n",
    "Arithmetic operators allow you to do simple math with Python. Operators include: \n",
    "\n",
    "    +  : addition\n",
    "    -  : subtraction\n",
    "    *  : multiplication\n",
    "    /  : division\n",
    "    %  : modulo (finds the remainder of a division)\n",
    "    ** : exponent\n",
    "    // : floor division\n",
    "    \n",
    "In the cells below, insert any of the above operators to complete the equation. Print the result of the equation. "
   ]
  },
  {
   "cell_type": "code",
   "execution_count": 30,
   "id": "39040a42",
   "metadata": {},
   "outputs": [
    {
     "data": {
      "text/plain": [
       "11"
      ]
     },
     "execution_count": 30,
     "metadata": {},
     "output_type": "execute_result"
    }
   ],
   "source": [
    "9 + 2"
   ]
  },
  {
   "cell_type": "code",
   "execution_count": 31,
   "id": "10556873",
   "metadata": {},
   "outputs": [
    {
     "data": {
      "text/plain": [
       "111.0"
      ]
     },
     "execution_count": 31,
     "metadata": {},
     "output_type": "execute_result"
    }
   ],
   "source": [
    "189.0 - 78"
   ]
  },
  {
   "cell_type": "code",
   "execution_count": 32,
   "id": "08146d84",
   "metadata": {},
   "outputs": [
    {
     "data": {
      "text/plain": [
       "6"
      ]
     },
     "execution_count": 32,
     "metadata": {},
     "output_type": "execute_result"
    }
   ],
   "source": [
    "3 * 2"
   ]
  },
  {
   "cell_type": "code",
   "execution_count": 33,
   "id": "f7078161",
   "metadata": {},
   "outputs": [
    {
     "data": {
      "text/plain": [
       "0.375"
      ]
     },
     "execution_count": 33,
     "metadata": {},
     "output_type": "execute_result"
    }
   ],
   "source": [
    "3 / 8"
   ]
  },
  {
   "cell_type": "code",
   "execution_count": 34,
   "id": "dab7ca1c",
   "metadata": {},
   "outputs": [
    {
     "data": {
      "text/plain": [
       "999.0027"
      ]
     },
     "execution_count": 34,
     "metadata": {},
     "output_type": "execute_result"
    }
   ],
   "source": [
    "999.0027 % 2736.83"
   ]
  },
  {
   "cell_type": "code",
   "execution_count": 35,
   "id": "fc2f6a96",
   "metadata": {},
   "outputs": [
    {
     "data": {
      "text/plain": [
       "286296647198568771733609157020113746343214564499561381888"
      ]
     },
     "execution_count": 35,
     "metadata": {},
     "output_type": "execute_result"
    }
   ],
   "source": [
    "488 ** 21"
   ]
  },
  {
   "cell_type": "code",
   "execution_count": 36,
   "id": "9a967945",
   "metadata": {},
   "outputs": [
    {
     "data": {
      "text/plain": [
       "1"
      ]
     },
     "execution_count": 36,
     "metadata": {},
     "output_type": "execute_result"
    }
   ],
   "source": [
    "11 // 8"
   ]
  },
  {
   "cell_type": "code",
   "execution_count": 37,
   "id": "42e5ed80",
   "metadata": {},
   "outputs": [
    {
     "data": {
      "text/plain": [
       "5"
      ]
     },
     "execution_count": 37,
     "metadata": {},
     "output_type": "execute_result"
    }
   ],
   "source": [
    "45 // 9"
   ]
  },
  {
   "cell_type": "code",
   "execution_count": 38,
   "id": "49eb7508",
   "metadata": {},
   "outputs": [
    {
     "data": {
      "text/plain": [
       "3"
      ]
     },
     "execution_count": 38,
     "metadata": {},
     "output_type": "execute_result"
    }
   ],
   "source": [
    "808 % 23"
   ]
  },
  {
   "cell_type": "code",
   "execution_count": 39,
   "id": "f8484957",
   "metadata": {},
   "outputs": [
    {
     "data": {
      "text/plain": [
       "5"
      ]
     },
     "execution_count": 39,
     "metadata": {},
     "output_type": "execute_result"
    }
   ],
   "source": [
    "4 + 1"
   ]
  },
  {
   "cell_type": "code",
   "execution_count": 40,
   "id": "459eaeb0",
   "metadata": {},
   "outputs": [
    {
     "data": {
      "text/plain": [
       "0"
      ]
     },
     "execution_count": 40,
     "metadata": {},
     "output_type": "execute_result"
    }
   ],
   "source": [
    "0 % 28"
   ]
  },
  {
   "cell_type": "code",
   "execution_count": 41,
   "id": "95bced8c",
   "metadata": {},
   "outputs": [
    {
     "data": {
      "text/plain": [
       "435"
      ]
     },
     "execution_count": 41,
     "metadata": {},
     "output_type": "execute_result"
    }
   ],
   "source": [
    "435 % 982"
   ]
  },
  {
   "cell_type": "code",
   "execution_count": 42,
   "id": "e8528a78",
   "metadata": {},
   "outputs": [
    {
     "data": {
      "text/plain": [
       "18"
      ]
     },
     "execution_count": 42,
     "metadata": {},
     "output_type": "execute_result"
    }
   ],
   "source": [
    "6 * 3"
   ]
  },
  {
   "cell_type": "code",
   "execution_count": 43,
   "id": "adf2aa7d",
   "metadata": {},
   "outputs": [
    {
     "data": {
      "text/plain": [
       "0.0"
      ]
     },
     "execution_count": 43,
     "metadata": {},
     "output_type": "execute_result"
    }
   ],
   "source": [
    "1 // 1.5"
   ]
  },
  {
   "cell_type": "code",
   "execution_count": 44,
   "id": "636e2e43",
   "metadata": {},
   "outputs": [
    {
     "data": {
      "text/plain": [
       "130"
      ]
     },
     "execution_count": 44,
     "metadata": {},
     "output_type": "execute_result"
    }
   ],
   "source": [
    "65 * 2"
   ]
  },
  {
   "cell_type": "code",
   "execution_count": 45,
   "id": "a6a68f4d",
   "metadata": {},
   "outputs": [
    {
     "data": {
      "text/plain": [
       "1.1111111111111112"
      ]
     },
     "execution_count": 45,
     "metadata": {},
     "output_type": "execute_result"
    }
   ],
   "source": [
    "10 / 9"
   ]
  },
  {
   "cell_type": "code",
   "execution_count": 46,
   "id": "a57f3f9a",
   "metadata": {},
   "outputs": [
    {
     "data": {
      "text/plain": [
       "81.66666666666667"
      ]
     },
     "execution_count": 46,
     "metadata": {},
     "output_type": "execute_result"
    }
   ],
   "source": [
    "245 / 3"
   ]
  },
  {
   "cell_type": "code",
   "execution_count": 47,
   "id": "84b3d549",
   "metadata": {},
   "outputs": [
    {
     "data": {
      "text/plain": [
       "0"
      ]
     },
     "execution_count": 47,
     "metadata": {},
     "output_type": "execute_result"
    }
   ],
   "source": [
    "33 * 0"
   ]
  },
  {
   "cell_type": "code",
   "execution_count": 48,
   "id": "a58d40d6",
   "metadata": {},
   "outputs": [
    {
     "data": {
      "text/plain": [
       "4.5"
      ]
     },
     "execution_count": 48,
     "metadata": {},
     "output_type": "execute_result"
    }
   ],
   "source": [
    "9 / 2"
   ]
  },
  {
   "cell_type": "code",
   "execution_count": 49,
   "id": "d0db87ca",
   "metadata": {},
   "outputs": [
    {
     "data": {
      "text/plain": [
       "11"
      ]
     },
     "execution_count": 49,
     "metadata": {},
     "output_type": "execute_result"
    }
   ],
   "source": [
    "89 % 78"
   ]
  },
  {
   "cell_type": "markdown",
   "id": "4847f855",
   "metadata": {},
   "source": [
    "#### COMPOUND OPERATORS\n",
    "\n",
    "Change the value of a variable and re-assign the new value to the same variable. This method saves you a step; all compound operators follow the same pattern:\n",
    "    \n",
    "    variable_a = variable_a + 10 <<<--->>> variable_a += 10\n",
    "    \n",
    "variable_a is now equal to the original value of variable_a plus 10. Compound operators include:\n",
    "\n",
    "    +=  : a = a + b\n",
    "    -=  : a = a - b\n",
    "    *=  : a = a * b\n",
    "    /=  : a = a / b\n",
    "    %=  : a = a % b\n",
    "    **= : a = a ** b\n",
    "    //= : a = a // b\n",
    "    \n",
    "Convert all the equations below to use compound operators. "
   ]
  },
  {
   "cell_type": "code",
   "execution_count": 12,
   "id": "e404834e",
   "metadata": {},
   "outputs": [
    {
     "name": "stdout",
     "output_type": "stream",
     "text": [
      "4\n"
     ]
    }
   ],
   "source": [
    "9 // 2\n",
    "\n",
    "a = 9\n",
    "a //= 2\n",
    "print(a)"
   ]
  },
  {
   "cell_type": "code",
   "execution_count": 7,
   "id": "822faf79",
   "metadata": {},
   "outputs": [
    {
     "name": "stdout",
     "output_type": "stream",
     "text": [
      "267.0\n"
     ]
    }
   ],
   "source": [
    "189.0 + 78\n",
    "\n",
    "a = 189.0\n",
    "a += 78\n",
    "print(a)"
   ]
  },
  {
   "cell_type": "code",
   "execution_count": 8,
   "id": "6258bd09",
   "metadata": {},
   "outputs": [
    {
     "name": "stdout",
     "output_type": "stream",
     "text": [
      "1\n"
     ]
    }
   ],
   "source": [
    "3 - 2\n",
    "\n",
    "a = 3\n",
    "a -= 2\n",
    "print(a)"
   ]
  },
  {
   "cell_type": "code",
   "execution_count": 10,
   "id": "4f75b3dd",
   "metadata": {},
   "outputs": [
    {
     "name": "stdout",
     "output_type": "stream",
     "text": [
      "1\n"
     ]
    }
   ],
   "source": [
    "5 + 1\n",
    "\n",
    "a + 5\n",
    "a += 1\n",
    "print(a)"
   ]
  },
  {
   "cell_type": "code",
   "execution_count": 11,
   "id": "7ccd412b",
   "metadata": {},
   "outputs": [
    {
     "name": "stdout",
     "output_type": "stream",
     "text": [
      "0\n"
     ]
    }
   ],
   "source": [
    "8 * 0\n",
    "\n",
    "a * 8\n",
    "a *= 0\n",
    "print(a)"
   ]
  },
  {
   "cell_type": "code",
   "execution_count": 9,
   "id": "85927104",
   "metadata": {},
   "outputs": [
    {
     "name": "stdout",
     "output_type": "stream",
     "text": [
      "0\n"
     ]
    }
   ],
   "source": [
    "4 % 1\n",
    "\n",
    "a = 4\n",
    "a %= 1\n",
    "print(a)"
   ]
  },
  {
   "cell_type": "code",
   "execution_count": 13,
   "id": "c98f0c5b",
   "metadata": {},
   "outputs": [
    {
     "name": "stdout",
     "output_type": "stream",
     "text": [
      "2\n"
     ]
    }
   ],
   "source": [
    "5 // 2\n",
    "\n",
    "a // 5\n",
    "a //= 2\n",
    "print(a)"
   ]
  },
  {
   "cell_type": "code",
   "execution_count": 14,
   "id": "5976228b",
   "metadata": {},
   "outputs": [
    {
     "name": "stdout",
     "output_type": "stream",
     "text": [
      "2.0\n"
     ]
    }
   ],
   "source": [
    "6 / 3\n",
    "\n",
    "x = 6\n",
    "x /= 3\n",
    "print(x)"
   ]
  },
  {
   "cell_type": "code",
   "execution_count": 15,
   "id": "42dc1e45",
   "metadata": {},
   "outputs": [
    {
     "name": "stdout",
     "output_type": "stream",
     "text": [
      "18\n"
     ]
    }
   ],
   "source": [
    "9 * 2\n",
    "\n",
    "x = 9\n",
    "x *= 2\n",
    "print(x)"
   ]
  },
  {
   "cell_type": "code",
   "execution_count": 16,
   "id": "c50af2d5",
   "metadata": {},
   "outputs": [
    {
     "name": "stdout",
     "output_type": "stream",
     "text": [
      "9\n"
     ]
    }
   ],
   "source": [
    "10 - 1\n",
    "\n",
    "x = 10\n",
    "x -= 1\n",
    "print(x)"
   ]
  },
  {
   "cell_type": "code",
   "execution_count": 17,
   "id": "ebad1582",
   "metadata": {},
   "outputs": [
    {
     "name": "stdout",
     "output_type": "stream",
     "text": [
      "625\n"
     ]
    }
   ],
   "source": [
    "5 ** 4\n",
    "\n",
    "x = 5\n",
    "x **= 4\n",
    "\n",
    "print(x)"
   ]
  },
  {
   "cell_type": "code",
   "execution_count": 18,
   "id": "24f4ccb5",
   "metadata": {},
   "outputs": [
    {
     "name": "stdout",
     "output_type": "stream",
     "text": [
      "6\n"
     ]
    }
   ],
   "source": [
    "8 - 2\n",
    "\n",
    "x = 8\n",
    "x -= 2\n",
    "\n",
    "print(x)"
   ]
  },
  {
   "cell_type": "code",
   "execution_count": 19,
   "id": "f2b5e89e",
   "metadata": {},
   "outputs": [
    {
     "name": "stdout",
     "output_type": "stream",
     "text": [
      "12\n"
     ]
    }
   ],
   "source": [
    "10 + 2\n",
    "\n",
    "x = 10\n",
    "x += 2\n",
    "\n",
    "print(x)"
   ]
  },
  {
   "cell_type": "code",
   "execution_count": 20,
   "id": "1a964bed",
   "metadata": {},
   "outputs": [
    {
     "name": "stdout",
     "output_type": "stream",
     "text": [
      "18.7\n"
     ]
    }
   ],
   "source": [
    "11 * 1.7\n",
    "\n",
    "x = 11\n",
    "x *= 1.7\n",
    "\n",
    "print(x)"
   ]
  },
  {
   "cell_type": "code",
   "execution_count": 21,
   "id": "cef300d5",
   "metadata": {},
   "outputs": [
    {
     "name": "stdout",
     "output_type": "stream",
     "text": [
      "6\n"
     ]
    }
   ],
   "source": [
    "9 - 3\n",
    "\n",
    "x = 9\n",
    "x -= 3\n",
    "print(x)"
   ]
  },
  {
   "cell_type": "code",
   "execution_count": 22,
   "id": "4ac33b3d",
   "metadata": {},
   "outputs": [
    {
     "name": "stdout",
     "output_type": "stream",
     "text": [
      "2401\n"
     ]
    }
   ],
   "source": [
    "7 ** 4\n",
    "\n",
    "x = 7\n",
    "x **= 4\n",
    "print(x)"
   ]
  },
  {
   "cell_type": "code",
   "execution_count": 23,
   "id": "6623aad6",
   "metadata": {},
   "outputs": [
    {
     "name": "stdout",
     "output_type": "stream",
     "text": [
      "1\n"
     ]
    }
   ],
   "source": [
    "11 % 2\n",
    "\n",
    "x = 11\n",
    "x %= 2\n",
    "print(x)"
   ]
  },
  {
   "cell_type": "code",
   "execution_count": 24,
   "id": "73fc9417",
   "metadata": {},
   "outputs": [
    {
     "name": "stdout",
     "output_type": "stream",
     "text": [
      "2.0\n"
     ]
    }
   ],
   "source": [
    "8 / 4\n",
    "\n",
    "x = 8\n",
    "x /= 4\n",
    "print(x)"
   ]
  },
  {
   "cell_type": "code",
   "execution_count": 25,
   "id": "a7b938dc",
   "metadata": {},
   "outputs": [
    {
     "name": "stdout",
     "output_type": "stream",
     "text": [
      "25\n"
     ]
    }
   ],
   "source": [
    "5 * 5\n",
    "\n",
    "x = 5\n",
    "x *= 5\n",
    "print(x)"
   ]
  },
  {
   "cell_type": "code",
   "execution_count": 26,
   "id": "0d726462",
   "metadata": {},
   "outputs": [
    {
     "name": "stdout",
     "output_type": "stream",
     "text": [
      "2\n"
     ]
    }
   ],
   "source": [
    "7 % 5\n",
    "\n",
    "x = 7\n",
    "x %= 5\n",
    "print(x)"
   ]
  },
  {
   "cell_type": "code",
   "execution_count": 27,
   "id": "8b14a330",
   "metadata": {},
   "outputs": [
    {
     "name": "stdout",
     "output_type": "stream",
     "text": [
      "32768\n"
     ]
    }
   ],
   "source": [
    "8 ** 5\n",
    "\n",
    "x = 8\n",
    "x **= 5\n",
    "print(x)"
   ]
  },
  {
   "cell_type": "code",
   "execution_count": 28,
   "id": "22f9b389",
   "metadata": {},
   "outputs": [
    {
     "name": "stdout",
     "output_type": "stream",
     "text": [
      "4\n"
     ]
    }
   ],
   "source": [
    "12 // 3\n",
    "\n",
    "x = 12\n",
    "x //= 3\n",
    "print(x)"
   ]
  },
  {
   "cell_type": "markdown",
   "id": "ded228b7",
   "metadata": {},
   "source": [
    "#### ESCAPE CHARACTERS\n",
    "\n",
    "An escape character allows you to include special characters in a string that would otherwise return an error. To use escape characters, add a backslash (\\) before the character you want to escape:\n",
    "\n",
    "    \" \\ \" use a single backslash to add apostrophe's in strings \n",
    "    \" \\n \" use to insert new lines in your strings\n",
    "    \" \\t \" use to insert tab spaces into your strings\n",
    "    \n",
    "Fix the code below to insert the correct escape character into the string. "
   ]
  },
  {
   "cell_type": "code",
   "execution_count": 62,
   "id": "f32087c4",
   "metadata": {},
   "outputs": [
    {
     "name": "stdout",
     "output_type": "stream",
     "text": [
      "Hello, what\\s up?\n"
     ]
    }
   ],
   "source": [
    "print('Hello, what\\s up?')"
   ]
  },
  {
   "cell_type": "code",
   "execution_count": 81,
   "id": "f95259b6",
   "metadata": {},
   "outputs": [
    {
     "name": "stdout",
     "output_type": "stream",
     "text": [
      " Hello, \n",
      " I wish the first hello was on its own line!\n"
     ]
    }
   ],
   "source": [
    "print(f\" Hello, \\n I wish the first hello was on its own line!\")"
   ]
  },
  {
   "cell_type": "code",
   "execution_count": 82,
   "id": "4f91339d",
   "metadata": {},
   "outputs": [
    {
     "name": "stdout",
     "output_type": "stream",
     "text": [
      " Hello \t I wish there was a long space after the first Hello.\n"
     ]
    }
   ],
   "source": [
    "print(f\" Hello \\t I wish there was a long space after the first Hello.\")"
   ]
  },
  {
   "cell_type": "markdown",
   "id": "26b9ffa2",
   "metadata": {},
   "source": [
    "#### FORMATTED STRINGS PT 1\n",
    "\n",
    "Formatted strings allow you to return strings with specific formatting. A formatted string uses the following code to product output that looks a certain way:\n",
    "\n",
    "    {}  : a place holder\n",
    "\n",
    "The placeholder is used to insert the value of a specific variable into the string. All you need to do is insert the name of the variable and whatever value is assigned to that variable will show up when you print the statement. Complete the code in the cells below to print out the proper formatted strings. "
   ]
  },
  {
   "cell_type": "code",
   "execution_count": 83,
   "id": "5a18b3b4",
   "metadata": {},
   "outputs": [
    {
     "name": "stdout",
     "output_type": "stream",
     "text": [
      "Hello Jasmine\n"
     ]
    }
   ],
   "source": [
    "x = \"Jasmine\"\n",
    "\n",
    "## complete the code below to print the statement \"Hello, [name]!\"\n",
    "\n",
    "print(f\"Hello {x}\")"
   ]
  },
  {
   "cell_type": "code",
   "execution_count": 85,
   "id": "ceed705f",
   "metadata": {},
   "outputs": [
    {
     "name": "stdout",
     "output_type": "stream",
     "text": [
      "My favorite animal is a Cat\n"
     ]
    }
   ],
   "source": [
    "x = \"Cat\"\n",
    "\n",
    "## complete the code below to print the statement \"My favorite animal is a Cat\"\n",
    "\n",
    "print(f\"My favorite animal is a {x}\")"
   ]
  },
  {
   "cell_type": "code",
   "execution_count": 87,
   "id": "1bcc9a0d",
   "metadata": {},
   "outputs": [
    {
     "name": "stdout",
     "output_type": "stream",
     "text": [
      "my favorite actor is Tom Hanks\n"
     ]
    }
   ],
   "source": [
    "x = \"Tom Hanks\"\n",
    "\n",
    "## complete the code below to print the statement \"My favorite actor is Tom Hanks\"\n",
    "\n",
    "print(f\"my favorite actor is {x}\")"
   ]
  },
  {
   "cell_type": "code",
   "execution_count": 89,
   "id": "251f7329",
   "metadata": {},
   "outputs": [
    {
     "name": "stdout",
     "output_type": "stream",
     "text": [
      "Let's play chess, which color do you want to be? \n",
      " Black or White\n"
     ]
    }
   ],
   "source": [
    "x = \"Black\"\n",
    "y = \"White\"\n",
    "\n",
    "## complete the code below to print the statement \"Let's play chess, which color do you want to be? Black or White?\"\n",
    "\n",
    "print(f\"Let's play chess, which color do you want to be? \\n {x} or {y}\")"
   ]
  },
  {
   "cell_type": "code",
   "execution_count": 91,
   "id": "a90dee16",
   "metadata": {
    "scrolled": false
   },
   "outputs": [
    {
     "name": "stdout",
     "output_type": "stream",
     "text": [
      "The three cities I visited during my vacation were \n",
      " Paris \n",
      " Dublin \n",
      " Bristol\n"
     ]
    }
   ],
   "source": [
    "a = \"Paris\"\n",
    "b = \"Dublin\"\n",
    "c = \"Bristol\"\n",
    "\n",
    "## complete the code below to print the statement \"The three cities I visited during my vacation were Paris, Bristol, and Dublin.\"\n",
    "\n",
    "print(f\"The three cities I visited during my vacation were \\n {a} \\n {b} \\n {c}\")"
   ]
  },
  {
   "cell_type": "markdown",
   "id": "0c659df0",
   "metadata": {},
   "source": [
    "# FORMATTED STRINGS PT 2\n",
    "\n",
    "Formatted strings allow you to return strings with specific formatting. A formatted string uses the following code to product output that looks a certain way:\n",
    "\n",
    "    ,   : shows commas in thousands place\n",
    "    .2f : shows 2 digits after the decimal point\n",
    "    .2% : shows 2 digits after the decimal point in percentage (%)\n",
    "\n",
    "The numeric formatting options allow you to return a number with a specific format. Typically, this includes adding a comma in the thousands place and truncating the amount of digits found after a decimal point. Complete the following questions in the cells below:\n",
    "\n",
    "1. Print the following number with commas and 1 number after the decimal: 49792862.39231\n",
    "2. Print the following number with commas and 3 number after the decimal: 3999876.009\n",
    "3. Print the following number as a percentage with 2 numbers after the decimal: .03974\n",
    "4. Print the following number with commas: 1000000000000000000\n",
    "5. Write the code to produce this output: 7, 890.00\n",
    "6. Write the code to product this output: 567.00045\n",
    "7. Print the following number with commas and no numbers after the decimal: 3450000"
   ]
  },
  {
   "cell_type": "code",
   "execution_count": 98,
   "id": "ec1a4d0a",
   "metadata": {},
   "outputs": [
    {
     "name": "stdout",
     "output_type": "stream",
     "text": [
      "49,792,862.4\n"
     ]
    }
   ],
   "source": [
    "num = 49792862.39231\n",
    " \n",
    "res = '{:,.1f}'.format(num)\n",
    "print(res)\n"
   ]
  },
  {
   "cell_type": "code",
   "execution_count": 99,
   "id": "0e45bfe0",
   "metadata": {},
   "outputs": [
    {
     "name": "stdout",
     "output_type": "stream",
     "text": [
      "3,999,876.009\n"
     ]
    }
   ],
   "source": [
    "num = 3999876.009\n",
    " \n",
    "res = '{:,.3f}'.format(num)\n",
    "print(res)"
   ]
  },
  {
   "cell_type": "code",
   "execution_count": 100,
   "id": "98930a6b",
   "metadata": {},
   "outputs": [
    {
     "name": "stdout",
     "output_type": "stream",
     "text": [
      "3.97%\n"
     ]
    }
   ],
   "source": [
    "num = .03974\n",
    " \n",
    "res = '{:,.2%}'.format(num)\n",
    "print(res)"
   ]
  },
  {
   "cell_type": "code",
   "execution_count": 101,
   "id": "53d1f3a4",
   "metadata": {},
   "outputs": [
    {
     "name": "stdout",
     "output_type": "stream",
     "text": [
      "1,000,000,000,000,000,000\n"
     ]
    }
   ],
   "source": [
    "res = f'{1000000000000000000:,}'.replace('.',',')\n",
    "print(res)"
   ]
  },
  {
   "cell_type": "code",
   "execution_count": 103,
   "id": "49d3570e",
   "metadata": {},
   "outputs": [
    {
     "name": "stdout",
     "output_type": "stream",
     "text": [
      "7,890.00\n"
     ]
    }
   ],
   "source": [
    "num = 7890.00\n",
    "\n",
    "res = \"{:,.2f}\".format(num)\n",
    "\n",
    "print(res)"
   ]
  },
  {
   "cell_type": "code",
   "execution_count": 104,
   "id": "eea48a4b",
   "metadata": {},
   "outputs": [
    {
     "name": "stdout",
     "output_type": "stream",
     "text": [
      "567.00045\n"
     ]
    }
   ],
   "source": [
    "num = 567.00045\n",
    "\n",
    "res = \"{:.5f}\".format(num)\n",
    "\n",
    "print(res)"
   ]
  },
  {
   "cell_type": "code",
   "execution_count": null,
   "id": "49619542",
   "metadata": {},
   "outputs": [],
   "source": [
    "num = 3450000\n",
    "\n",
    "res = \"{:,}\".format(num)\n",
    "\n",
    "print(res)"
   ]
  },
  {
   "cell_type": "markdown",
   "id": "5675f4cf",
   "metadata": {},
   "source": [
    "#### INPUT FUNCTION \n",
    "\n",
    "The input function directly asks the user (you) for information. \n",
    "\n",
    "    input(tell the user what you want them to do!)\n",
    "    \n",
    "1. Use the input() function to find a users name\n",
    "2. Use the input() function to find a users address\n",
    "3. Use the input() function to find a users phone number\n",
    "4. Use the input() function to find a users age\n",
    "5. Using a formatted string, put all this information together and print a statement using what you learned about the user. "
   ]
  },
  {
   "cell_type": "code",
   "execution_count": 1,
   "id": "9213c2fd",
   "metadata": {},
   "outputs": [
    {
     "name": "stdout",
     "output_type": "stream",
     "text": [
      "what's your name?:aj\n",
      "what's your address?:14128 beechvue ln. silver spring. MD. 20906\n",
      "what's your phone number?:240 481 0321\n",
      "what's your age?:29\n",
      "['aj', '14128 beechvue ln. silver spring. MD. 20906', '240 481 0321', '29']\n"
     ]
    }
   ],
   "source": [
    "## i'll get you started...\n",
    "\n",
    "info = []\n",
    "\n",
    "info.append(input(\"what's your name?:\"))\n",
    "info.append(input(\"what's your address?:\"))\n",
    "info.append(input(\"what's your phone number?:\"))\n",
    "info.append(input(\"what's your age?:\"))\n",
    "\n",
    "print(info)"
   ]
  },
  {
   "cell_type": "markdown",
   "id": "3439a3eb",
   "metadata": {},
   "source": [
    "#### DATA TYPE CONVERSION FUNCTIONS\n",
    "\n",
    "You can convert data to various types using three built-in functions. \n",
    "* the int() function turns a value into an integer\n",
    "* the float() function turns a value into a float\n",
    "* the str() function turns a value into a string\n",
    "\n",
    "Complete the code below to make the necessary changes. "
   ]
  },
  {
   "cell_type": "code",
   "execution_count": 2,
   "id": "ac1ddb88",
   "metadata": {},
   "outputs": [
    {
     "data": {
      "text/plain": [
       "187.0"
      ]
     },
     "execution_count": 2,
     "metadata": {},
     "output_type": "execute_result"
    }
   ],
   "source": [
    "x = \"187\"\n",
    "\n",
    "### convert x into a float value\n",
    "\n",
    "float(x)"
   ]
  },
  {
   "cell_type": "code",
   "execution_count": 4,
   "id": "0167e572",
   "metadata": {},
   "outputs": [
    {
     "data": {
      "text/plain": [
       "'123.56'"
      ]
     },
     "execution_count": 4,
     "metadata": {},
     "output_type": "execute_result"
    }
   ],
   "source": [
    "y = 123.56\n",
    "\n",
    "### convert y into a string value\n",
    "\n",
    "str(y)"
   ]
  },
  {
   "cell_type": "code",
   "execution_count": 5,
   "id": "1190bded",
   "metadata": {},
   "outputs": [
    {
     "data": {
      "text/plain": [
       "99.0"
      ]
     },
     "execution_count": 5,
     "metadata": {},
     "output_type": "execute_result"
    }
   ],
   "source": [
    "z = 99\n",
    "\n",
    "### convert z into a float value \n",
    "\n",
    "float(z)"
   ]
  },
  {
   "cell_type": "markdown",
   "id": "8d175867",
   "metadata": {},
   "source": [
    "# { Module 1 Quiz }"
   ]
  },
  {
   "cell_type": "markdown",
   "id": "87bbeab8",
   "metadata": {},
   "source": [
    "1. Print out your favorite snack and write a comment about what you are doing in the code. \n",
    "2. Print the sum of the following values: 3, 56, 21, 11, 7, 0, 5\n",
    "3. Print the remainder of the values 435 and 6\n",
    "4. Create a variable called 'eye color' and store your eye color to the variable. Print a sentence describing your eye color and using the variable in the sentence. \n",
    "5. Write a code to get two integers from a user. Print out their sum."
   ]
  },
  {
   "cell_type": "code",
   "execution_count": 11,
   "id": "9dda6e42",
   "metadata": {},
   "outputs": [
    {
     "name": "stdout",
     "output_type": "stream",
     "text": [
      "doritos\n"
     ]
    }
   ],
   "source": [
    "#Print out your favorite snack and write a comment about what you are doing in the code.\n",
    "Snack = \"doritos\"\n",
    "\n",
    "print(Snack)"
   ]
  },
  {
   "cell_type": "code",
   "execution_count": 12,
   "id": "fcc209d6",
   "metadata": {},
   "outputs": [
    {
     "name": "stdout",
     "output_type": "stream",
     "text": [
      "103\n"
     ]
    }
   ],
   "source": [
    "#Print the sum of the following values: 3, 56, 21, 11, 7, 0, 5\n",
    "sum = 3 + 56 + 21 + 11 + 7 + 0 + 5\n",
    "print(sum)"
   ]
  },
  {
   "cell_type": "code",
   "execution_count": 13,
   "id": "4474228d",
   "metadata": {},
   "outputs": [
    {
     "name": "stdout",
     "output_type": "stream",
     "text": [
      "3\n"
     ]
    }
   ],
   "source": [
    "#Print the remainder of the values 435 and 6\n",
    "\n",
    "remainder = 435 % 6\n",
    "print(remainder)"
   ]
  },
  {
   "cell_type": "code",
   "execution_count": 17,
   "id": "67d80096",
   "metadata": {},
   "outputs": [
    {
     "name": "stdout",
     "output_type": "stream",
     "text": [
      "the color of my eyes are black\n"
     ]
    }
   ],
   "source": [
    "#Create a variable called 'eye color' and store your eye color to the variable. Print a sentence describing your eye color and using the variable in the sentence.\n",
    "x = \"black\"\n",
    "\n",
    "print(f\"the color of my eyes are {x}\")"
   ]
  },
  {
   "cell_type": "code",
   "execution_count": 6,
   "id": "59787d91",
   "metadata": {},
   "outputs": [
    {
     "name": "stdout",
     "output_type": "stream",
     "text": [
      "type your first number:56\n",
      "type your second number:67\n",
      "123\n"
     ]
    }
   ],
   "source": [
    "#Write a code to get two integers from a user. Print out their sum.\n",
    "\n",
    "import random as rand\n",
    "\n",
    "num = (1,100)\n",
    "\n",
    "int1 = int(input(\"type your first number:\"))\n",
    "int2 = int(input(\"type your second number:\"))\n",
    "\n",
    "print(int1 + int2)"
   ]
  },
  {
   "cell_type": "markdown",
   "id": "c75fba17",
   "metadata": {},
   "source": [
    "## Module 2 Review"
   ]
  },
  {
   "cell_type": "markdown",
   "id": "87b6cfcd",
   "metadata": {},
   "source": [
    "#### IMPORTING LIBRARIES\n",
    "\n",
    "A library is a specific collection of python functions. You can use these functions by first importing the library into your notebook. Once you import your library, you can give it a nickname. The nickname is optional, but it makes it easier to use (or reference) the library throughout your code. \n",
    "\n",
    "    import [ library name ]\n",
    "    \n",
    "Importing a library and assigning a nickname:\n",
    "\n",
    "    import [ library name ] as [ nickname ]\n",
    "    \n",
    "Import the library \"random\" and nickname it \"rd\". "
   ]
  },
  {
   "cell_type": "code",
   "execution_count": 2,
   "id": "3538e862",
   "metadata": {},
   "outputs": [
    {
     "name": "stdout",
     "output_type": "stream",
     "text": [
      "type your first number:25\n",
      "type your second number:30\n",
      "27-29\n"
     ]
    }
   ],
   "source": [
    "import random as rand\n",
    "\n",
    "num1 = int(input(\"type your first number:\"))\n",
    "num2 = int(input(\"type your second number:\"))\n",
    "\n",
    "a = rand.randint(num1,num2)\n",
    "b = rand.randint(num1,num2)\n",
    "\n",
    "print(f\"{a}-{b}\")"
   ]
  },
  {
   "cell_type": "markdown",
   "id": "c6ddeed7",
   "metadata": {},
   "source": [
    "#### RANDOM NUMBER GENERATOR\n",
    "\n",
    "The random library contains a function that allows you to generate a random number. This library has two functions that are useful:\n",
    "\n",
    "    .random() : this will generate a random number \n",
    "    .randint() : this will generate a random integer within a specific range\n",
    "    \n",
    "When you want to use the function, you first have to reference the name of your library (or it's nickname) and then attach the function to the end of the library name. For example:\n",
    "\n",
    "    rd.random()\n",
    "    rd.randint() \n",
    "    rd.randint(0, 10) >>> this code will generate a random number between 0 and 10 \n",
    "\n",
    "1. Generate a random number\n",
    "2. Generate a random integer\n",
    "3. Generate a random integer between 1 and 100\n",
    "4. Generate a random integer between -10 and 10"
   ]
  },
  {
   "cell_type": "code",
   "execution_count": 9,
   "id": "e4ae5bb8",
   "metadata": {},
   "outputs": [
    {
     "data": {
      "text/plain": [
       "0.32228380877654583"
      ]
     },
     "execution_count": 9,
     "metadata": {},
     "output_type": "execute_result"
    }
   ],
   "source": [
    "# Generate a random number\n",
    "import random as rd\n",
    "rd.random()"
   ]
  },
  {
   "cell_type": "code",
   "execution_count": 12,
   "id": "e64d59e8",
   "metadata": {},
   "outputs": [
    {
     "data": {
      "text/plain": [
       "96"
      ]
     },
     "execution_count": 12,
     "metadata": {},
     "output_type": "execute_result"
    }
   ],
   "source": [
    "# Generate a random integer between 1 and 100\n",
    "rd.randint(1,100)"
   ]
  },
  {
   "cell_type": "code",
   "execution_count": 13,
   "id": "c7d4160b",
   "metadata": {},
   "outputs": [
    {
     "data": {
      "text/plain": [
       "4"
      ]
     },
     "execution_count": 13,
     "metadata": {},
     "output_type": "execute_result"
    }
   ],
   "source": [
    "# Generate a random integer between -10 and 10\n",
    "rd.randint(-10,10)"
   ]
  },
  {
   "cell_type": "markdown",
   "id": "5e925c51",
   "metadata": {},
   "source": [
    "#### LEN FUNCTION\n",
    "\n",
    "The len() function returns the length of a given value. This includes the length of a string, the amount of characters is a sentence (which also counts white spaces), the number of items in a list, etc. Complete the code below to determine the length of the following items. Before you run the code, try to guess what the length value is going to be. "
   ]
  },
  {
   "cell_type": "code",
   "execution_count": 15,
   "id": "694d46db",
   "metadata": {},
   "outputs": [
    {
     "data": {
      "text/plain": [
       "5"
      ]
     },
     "execution_count": 15,
     "metadata": {},
     "output_type": "execute_result"
    }
   ],
   "source": [
    "### what is the length of the following string:\n",
    "\n",
    "len(\"Hello\")"
   ]
  },
  {
   "cell_type": "code",
   "execution_count": 16,
   "id": "990c5881",
   "metadata": {},
   "outputs": [
    {
     "data": {
      "text/plain": [
       "6"
      ]
     },
     "execution_count": 16,
     "metadata": {},
     "output_type": "execute_result"
    }
   ],
   "source": [
    "### what is the length of the following string:\n",
    "\n",
    "len(\"123ABC\")"
   ]
  },
  {
   "cell_type": "code",
   "execution_count": 17,
   "id": "0d2e17d9",
   "metadata": {},
   "outputs": [
    {
     "data": {
      "text/plain": [
       "31"
      ]
     },
     "execution_count": 17,
     "metadata": {},
     "output_type": "execute_result"
    }
   ],
   "source": [
    "### what is the length of the following string:\n",
    "\n",
    "len(\"Hello, how are you doing today?\")"
   ]
  },
  {
   "cell_type": "code",
   "execution_count": 18,
   "id": "ef2c9c60",
   "metadata": {},
   "outputs": [
    {
     "data": {
      "text/plain": [
       "56"
      ]
     },
     "execution_count": 18,
     "metadata": {},
     "output_type": "execute_result"
    }
   ],
   "source": [
    "### what is the length of the following string:\n",
    "\n",
    "len(\"Hello, it's really nice to meet you! I hope you're well!\")"
   ]
  },
  {
   "cell_type": "code",
   "execution_count": 19,
   "id": "e5415e13",
   "metadata": {},
   "outputs": [
    {
     "data": {
      "text/plain": [
       "1"
      ]
     },
     "execution_count": 19,
     "metadata": {},
     "output_type": "execute_result"
    }
   ],
   "source": [
    "### what is the length of the following string:\n",
    "\n",
    "len(\" \")"
   ]
  },
  {
   "cell_type": "markdown",
   "id": "0d32284b",
   "metadata": {},
   "source": [
    "#### STRING METHODS\n",
    "\n",
    "There are several functions that are used specifically with strings. The most important functions to remember are:\n",
    "    \n",
    "<b> Change the Case </b>\n",
    "    \n",
    "    .title() >> change a string to title case\n",
    "    .upper() >> change a string to upper case\n",
    "    .lower() >> change a string to lower case\n",
    "    \n",
    "<b> Remove White Spaces from a String </b>\n",
    "\n",
    "    .strip() >> strip white spaces from both ends of a string\n",
    "    .rstrip() >> remove white spaces from the right-side of a string\n",
    "    .lstrip() >> remove white spaces from the left-side of a string\n",
    "    \n",
    "<b> Replace a value in a String with another value</b>\n",
    "\n",
    "    .replace() >> replace a specific character with another character\n",
    "    .replace([what you want to replace], [what to replace it with])\n",
    "    \n",
    "Complete the code below to practice the above string methods. "
   ]
  },
  {
   "cell_type": "code",
   "execution_count": 34,
   "id": "d1ecde8e",
   "metadata": {},
   "outputs": [
    {
     "data": {
      "text/plain": [
       "'George Washington'"
      ]
     },
     "execution_count": 34,
     "metadata": {},
     "output_type": "execute_result"
    }
   ],
   "source": [
    "name = \"gEOrGe washINGtoN\"\n",
    "\n",
    "## change the above string to title case\n",
    "\n",
    "str.title(name)"
   ]
  },
  {
   "cell_type": "code",
   "execution_count": 35,
   "id": "a342aa44",
   "metadata": {},
   "outputs": [
    {
     "data": {
      "text/plain": [
       "'hello what are you doing!'"
      ]
     },
     "execution_count": 35,
     "metadata": {},
     "output_type": "execute_result"
    }
   ],
   "source": [
    "yelling = \"HELLO WHAT ARE YOU DOING!\"\n",
    "\n",
    "## change the above string to lowercase\n",
    "\n",
    "str.lower(yelling)"
   ]
  },
  {
   "cell_type": "code",
   "execution_count": 36,
   "id": "f950dbc2",
   "metadata": {},
   "outputs": [
    {
     "data": {
      "text/plain": [
       "'The Great Gatsby'"
      ]
     },
     "execution_count": 36,
     "metadata": {},
     "output_type": "execute_result"
    }
   ],
   "source": [
    "book = \"the great gatsby\"\n",
    "\n",
    "## change the above string to title case\n",
    "str.title(book)"
   ]
  },
  {
   "cell_type": "code",
   "execution_count": 37,
   "id": "d94057a7",
   "metadata": {},
   "outputs": [
    {
     "data": {
      "text/plain": [
       "'NEW YORK'"
      ]
     },
     "execution_count": 37,
     "metadata": {},
     "output_type": "execute_result"
    }
   ],
   "source": [
    "city = \"nEW york\"\n",
    "\n",
    "## change the above string to uppercase\n",
    "\n",
    "str.upper(city)"
   ]
  },
  {
   "cell_type": "code",
   "execution_count": 38,
   "id": "4da01258",
   "metadata": {},
   "outputs": [
    {
     "data": {
      "text/plain": [
       "'Not all those who wander are lost.'"
      ]
     },
     "execution_count": 38,
     "metadata": {},
     "output_type": "execute_result"
    }
   ],
   "source": [
    "quote = \"        Not all those who wander are lost.         \"\n",
    "\n",
    "## strip the above string of white space on each side \n",
    "\n",
    "str.strip(quote)"
   ]
  },
  {
   "cell_type": "code",
   "execution_count": 39,
   "id": "9f8e9d33",
   "metadata": {},
   "outputs": [
    {
     "data": {
      "text/plain": [
       "'Not all those who wander are lost.         '"
      ]
     },
     "execution_count": 39,
     "metadata": {},
     "output_type": "execute_result"
    }
   ],
   "source": [
    "quote = \"        Not all those who wander are lost.         \"\n",
    "\n",
    "## strip the above string of white spaces on the left side\n",
    "\n",
    "str.lstrip(quote)"
   ]
  },
  {
   "cell_type": "code",
   "execution_count": 40,
   "id": "3867989e",
   "metadata": {},
   "outputs": [
    {
     "data": {
      "text/plain": [
       "'        Not all those who wander are lost.'"
      ]
     },
     "execution_count": 40,
     "metadata": {},
     "output_type": "execute_result"
    }
   ],
   "source": [
    "quote = \"        Not all those who wander are lost.         \"\n",
    "\n",
    "## strip the above string of white spaces on the right side\n",
    "\n",
    "str.rstrip(quote)"
   ]
  },
  {
   "cell_type": "code",
   "execution_count": 31,
   "id": "e983c072",
   "metadata": {},
   "outputs": [
    {
     "name": "stdout",
     "output_type": "stream",
     "text": [
      "four score and seven years ago...\n"
     ]
    }
   ],
   "source": [
    "speech = \"4 score and seven years ago...\"\n",
    "\n",
    "## in the above string, replace the value of \"4\" with the word \"four\"\n",
    "\n",
    "speech = \"4 score and seven years ago...\"\n",
    "new_speech = speech.replace(\"4\",\"four\")\n",
    "print(new_speech)"
   ]
  },
  {
   "cell_type": "code",
   "execution_count": 32,
   "id": "3f2d8aff",
   "metadata": {},
   "outputs": [
    {
     "name": "stdout",
     "output_type": "stream",
     "text": [
      "Four score and seven years ago...\n"
     ]
    }
   ],
   "source": [
    "speech = \"Four score and seven years ago...\"\n",
    "\n",
    "## in the above string, replace the word of \"seven\" with the value \"7\"\n",
    "\n",
    "new_speech = speech.replace(\"7\", \"seven\")\n",
    "print(new_speech)"
   ]
  },
  {
   "cell_type": "code",
   "execution_count": 33,
   "id": "eb0a2616",
   "metadata": {},
   "outputs": [],
   "source": [
    "speech = \"Four score and seven years ago...\"\n",
    "\n",
    "## in the above string, replace the \"...\" with a single period"
   ]
  },
  {
   "cell_type": "code",
   "execution_count": 34,
   "id": "9433c964",
   "metadata": {},
   "outputs": [
    {
     "name": "stdout",
     "output_type": "stream",
     "text": [
      "Four score and seven years ago.\n"
     ]
    }
   ],
   "source": [
    "new_speech = speech.replace(\"...\", \".\")\n",
    "print(new_speech)"
   ]
  },
  {
   "cell_type": "markdown",
   "id": "0f0bcd3a",
   "metadata": {},
   "source": [
    "#### INDEXING A STRING\n",
    "\n",
    "Strings are ordered sequences of characters and each character has a number associated with it. \n",
    "\n",
    "Indexing allows you to access individual characters in a string (or other ordered data types like a list) directly by using a numeric value, that numeric value is associated with a character/position in the string. \n",
    "\n",
    "In python, indexing is zero-based, meaning, the first character in the string has an index of 0, followed by 1, then 2, etc. See below for an example of how index values are associated with a string:\n",
    "\n",
    "    H[0]e[1]l[2]l[3]o[4]![5]\n",
    "    \n",
    "index value of 0 returns the character \"H\"\n",
    "index value of 1 returns the character \"e\"\n",
    "index value of 2 returns the character \"l\"\n",
    "index value of 3 returns the character \"l\"\n",
    "index value of 4 returns the character \"o\"\n",
    "index value of 5 returns the character \"!\"\n",
    "\n",
    "Complete the code below to practice indexing a specific string. "
   ]
  },
  {
   "cell_type": "code",
   "execution_count": 35,
   "id": "c8e51598",
   "metadata": {},
   "outputs": [
    {
     "data": {
      "text/plain": [
       "44"
      ]
     },
     "execution_count": 35,
     "metadata": {},
     "output_type": "execute_result"
    }
   ],
   "source": [
    "## run this cell to define the variable 'words'\n",
    "## determine the length (how many characters) of the passage \n",
    "\n",
    "words = \"To be, or not to be, that is the question...\"\n",
    "\n",
    "len(words)"
   ]
  },
  {
   "cell_type": "code",
   "execution_count": 36,
   "id": "c2c102f4",
   "metadata": {},
   "outputs": [
    {
     "data": {
      "text/plain": [
       "'T'"
      ]
     },
     "execution_count": 36,
     "metadata": {},
     "output_type": "execute_result"
    }
   ],
   "source": [
    "## index the variable 'words'\n",
    "# what character is in position 0?\n",
    "\n",
    "words[0]"
   ]
  },
  {
   "cell_type": "code",
   "execution_count": 37,
   "id": "b19dc375",
   "metadata": {},
   "outputs": [
    {
     "data": {
      "text/plain": [
       "'o'"
      ]
     },
     "execution_count": 37,
     "metadata": {},
     "output_type": "execute_result"
    }
   ],
   "source": [
    "## index the variable 'words'\n",
    "# what character is in position 15?\n",
    "\n",
    "words[15]"
   ]
  },
  {
   "cell_type": "code",
   "execution_count": 38,
   "id": "3f34ee5e",
   "metadata": {},
   "outputs": [
    {
     "data": {
      "text/plain": [
       "' '"
      ]
     },
     "execution_count": 38,
     "metadata": {},
     "output_type": "execute_result"
    }
   ],
   "source": [
    "## index the variable 'words'\n",
    "# what character is in position 9?\n",
    "\n",
    "words[9]"
   ]
  },
  {
   "cell_type": "code",
   "execution_count": 41,
   "id": "81c90dbb",
   "metadata": {},
   "outputs": [
    {
     "data": {
      "text/plain": [
       "'o'"
      ]
     },
     "execution_count": 41,
     "metadata": {},
     "output_type": "execute_result"
    }
   ],
   "source": [
    "## index the variable 'words'\n",
    "# what character is in position 39?\n",
    "\n",
    "words[39]"
   ]
  },
  {
   "cell_type": "markdown",
   "id": "aab4ba3d",
   "metadata": {},
   "source": [
    "#### CUSTOMIZED FUNCTIONS \n",
    "\n",
    "Python allows you to create your own unique functions. This gives you a lot of flexibility on the tasks you can automate within your code. You can create a function to do practically anything -- print a single value, add two numbers together, remove white spaces from a string, etc. \n",
    "\n",
    "* A custom function begins with the keyword <b>def</b> and followed by a function name (of your choice). \n",
    "* The function may take argument(s) as input within the opening and closing parentheses, just after the function name and following by a colon. \n",
    "* After defining the function name and argument(s) a block of program statement(s) start on the next line and these statement(s) must be indented. Please note, adding arguments within the parentheses is optional!\n",
    "\n",
    "When you are defining a function, follow these steps:\n",
    "\n",
    "     def function_name(argument1, argument2, ...) :\n",
    "          statement_1\n",
    "          statement_2\n",
    "\n",
    "Complete the code below to define a series of functions. "
   ]
  },
  {
   "cell_type": "code",
   "execution_count": 42,
   "id": "796baaa1",
   "metadata": {},
   "outputs": [
    {
     "name": "stdout",
     "output_type": "stream",
     "text": [
      "10\n"
     ]
    }
   ],
   "source": [
    "# EXAMPLE #\n",
    "## define a function that takes one number and prints the number\n",
    "\n",
    "def print_num(num):\n",
    "    print(num)\n",
    "\n",
    "## call the function\n",
    "## this function takes one argument, so you have to give the function info\n",
    "\n",
    "print_num(10)"
   ]
  },
  {
   "cell_type": "code",
   "execution_count": 43,
   "id": "539cd9e3",
   "metadata": {},
   "outputs": [
    {
     "name": "stdout",
     "output_type": "stream",
     "text": [
      "Enter a number: 10\n",
      "10\n"
     ]
    }
   ],
   "source": [
    "# EXAMPLE #\n",
    "## define a function that generates one number and prints the number\n",
    "\n",
    "def print_num_b():\n",
    "    num = int(input(\"Enter a number: \"))\n",
    "    print(num)\n",
    "\n",
    "## call the function\n",
    "## this function takes no arguments, therefore, we can call the function without giving information first\n",
    "\n",
    "print_num_b()"
   ]
  },
  {
   "cell_type": "code",
   "execution_count": 54,
   "id": "b7303870",
   "metadata": {},
   "outputs": [
    {
     "name": "stdout",
     "output_type": "stream",
     "text": [
      "enter the first number:11\n",
      "enter the second number:12\n",
      "23\n"
     ]
    }
   ],
   "source": [
    "## define a function that takes two numbers and adds them together\n",
    "def num_sum():\n",
    "    \n",
    "    num1 = int(input(\"enter the first number:\"))\n",
    "    num2 = int(input(\"enter the second number:\"))\n",
    "    \n",
    "    print(num1 + num2)\n",
    "    \n",
    "num_sum()\n",
    "\n",
    "## call the function below\n",
    "## this function takes two arguments, so you have to give the function info\n",
    "\n"
   ]
  },
  {
   "cell_type": "code",
   "execution_count": 55,
   "id": "9d30be02",
   "metadata": {},
   "outputs": [
    {
     "name": "stdout",
     "output_type": "stream",
     "text": [
      "Enter a number: 20\n",
      "Enter another number: 30\n",
      "50\n"
     ]
    }
   ],
   "source": [
    "## define a function that generates two numbers and adds them together\n",
    "\n",
    "def print_nums_b():\n",
    "    num1 = int(input(\"Enter a number: \"))\n",
    "    num2 = int(input(\"Enter another number: \"))\n",
    "    print(num1 + num2)\n",
    "    \n",
    "\n",
    "\n",
    "print_nums_b()\n",
    "\n",
    "## call the function below\n",
    "## this function takes no arguments, therefore, we can call the function without giving information first\n",
    "\n"
   ]
  },
  {
   "cell_type": "code",
   "execution_count": 64,
   "id": "ad99120a",
   "metadata": {},
   "outputs": [
    {
     "name": "stdout",
     "output_type": "stream",
     "text": [
      "SUN AND MOON\n"
     ]
    }
   ],
   "source": [
    "## define a function that takes a string and changes the case to uppercase\n",
    "\n",
    "def uppercased(string):\n",
    "    string = string.upper()\n",
    "    print(string)\n",
    "    \n",
    "uppercased(\"sun and moon\")\n",
    "    \n",
    "## call the function below\n",
    "## this function takes one argument, so you have to give the function info\n",
    "\n"
   ]
  },
  {
   "cell_type": "code",
   "execution_count": 5,
   "id": "7e297a09",
   "metadata": {},
   "outputs": [
    {
     "name": "stdout",
     "output_type": "stream",
     "text": [
      "enter a number for x:11\n",
      "enter a number for y:22\n",
      "242\n"
     ]
    }
   ],
   "source": [
    "## define a function that asks a user for two numbers then multiplies those numbers together\n",
    "\n",
    "def multi(x, y):\n",
    "    x = int(input(\"enter a number for x:\"))\n",
    "    y = int(input(\"enter a number for y:\"))\n",
    "    print(x * y)\n",
    "    \n",
    "multi(\"x\",\"y\")\n",
    "\n",
    "## call the function below\n",
    "## this function takes two arguments, so you have to give the function info\n",
    "\n"
   ]
  },
  {
   "cell_type": "code",
   "execution_count": 7,
   "id": "a1d3e647",
   "metadata": {},
   "outputs": [
    {
     "name": "stdout",
     "output_type": "stream",
     "text": [
      "Enter a number: 33\n",
      "Enter another number: 34\n",
      "1122\n"
     ]
    }
   ],
   "source": [
    "## define a function that asks a user for two numbers then multiplies those numbers together\n",
    "\n",
    "def multi_b():\n",
    "    x = int(input(\"Enter a number: \")) \n",
    "    y = int(input(\"Enter another number: \"))\n",
    "    print(x * y)\n",
    "    \n",
    "multi_b()\n",
    "\n",
    "## call the function below\n",
    "## this function takes no arguments, therefore, we can call the function without giving information first\n",
    "\n"
   ]
  },
  {
   "cell_type": "markdown",
   "id": "b7f66b5e",
   "metadata": {},
   "source": [
    "# { Module 2 Quiz }\n",
    "\n",
    "1. Convert \"890\" to an integer data type\n",
    "2. Get two numbers from a user. Use these two numbers as the starting and ending number when generating a random integer. Run the code to produce a random integer within this range.\n",
    "3. Remove the whitespaces from the ends of the following string: \"   What is your name   ?\"\n",
    "4. After you remove the whitespaces from the above string, index the string to find the character in position 3.\n",
    "5. Define a function that asks a user for three numbers. Add the first two numbers together. Then, multiply the sum of the first two numbers with the third number. After you define the function, use it!"
   ]
  },
  {
   "cell_type": "code",
   "execution_count": 8,
   "id": "0a78e3fc",
   "metadata": {},
   "outputs": [
    {
     "name": "stdout",
     "output_type": "stream",
     "text": [
      "<class 'int'>\n"
     ]
    }
   ],
   "source": [
    "int(890)\n",
    "print(int)"
   ]
  },
  {
   "cell_type": "code",
   "execution_count": 9,
   "id": "1a0ac364",
   "metadata": {},
   "outputs": [
    {
     "data": {
      "text/plain": [
       "890"
      ]
     },
     "execution_count": 9,
     "metadata": {},
     "output_type": "execute_result"
    }
   ],
   "source": [
    "# Convert \"890\" to an integer data type\n",
    "int(890)"
   ]
  },
  {
   "cell_type": "code",
   "execution_count": 15,
   "id": "d75dd3a9",
   "metadata": {},
   "outputs": [
    {
     "name": "stdout",
     "output_type": "stream",
     "text": [
      "enter the first number:11\n",
      "enter the second number:45\n",
      "38-17\n"
     ]
    }
   ],
   "source": [
    "# Get two numbers from a user. Use these two numbers as the starting and ending number when generating a random integer. \n",
    "#Run the code to produce a random integer within this range.\n",
    "\n",
    "import random as rand\n",
    "\n",
    "num1 = int(input(\"enter the first number:\"))\n",
    "num2 = int(input(\"enter the second number:\"))\n",
    "\n",
    "x = rand.randint(num1,num2)\n",
    "y = rand.randint(num1, num2)\n",
    "\n",
    "print(f\"{x}-{y}\")\n",
    "\n",
    "###SAMPLE###\n",
    "\n",
    "#import random as rand\n",
    "\n",
    "#num1 = int(input(\"type your first number:\"))\n",
    "#num2 = int(input(\"type your second number:\"))\n",
    "\n",
    "#a = rand.randint(num1,num2)\n",
    "#b = rand.randint(num1,num2)\n",
    "\n",
    "#print(f\"{a}-{b}\")\n"
   ]
  },
  {
   "cell_type": "code",
   "execution_count": 18,
   "id": "2566aca0",
   "metadata": {},
   "outputs": [
    {
     "name": "stdout",
     "output_type": "stream",
     "text": [
      " What is your name ?\n"
     ]
    }
   ],
   "source": [
    "#Remove the whitespaces from the ends of the following string: \" What is your name ?\"\n",
    "\n",
    "word = \" What is your name ?\"\n",
    "str.strip(word)\n",
    "print(word)"
   ]
  },
  {
   "cell_type": "code",
   "execution_count": 19,
   "id": "bbc7034c",
   "metadata": {},
   "outputs": [
    {
     "data": {
      "text/plain": [
       "'a'"
      ]
     },
     "execution_count": 19,
     "metadata": {},
     "output_type": "execute_result"
    }
   ],
   "source": [
    "#After you remove the whitespaces from the above string, index the string to find the character in position 3.\n",
    "\n",
    "word[3]"
   ]
  },
  {
   "cell_type": "code",
   "execution_count": 37,
   "id": "e1d470ad",
   "metadata": {},
   "outputs": [
    {
     "name": "stdout",
     "output_type": "stream",
     "text": [
      "enter the first number:11\n",
      "enter the second number:12\n",
      "enter the third number:13\n"
     ]
    },
    {
     "data": {
      "text/plain": [
       "299"
      ]
     },
     "execution_count": 37,
     "metadata": {},
     "output_type": "execute_result"
    }
   ],
   "source": [
    "#Define a function that asks a user for three numbers. Add the first two numbers together. \n",
    "#Then, multiply the sum of the first two numbers with the third number. \n",
    "#After you define the function, use it!\n",
    "\n",
    "def add_and_multiply(x, y, z):\n",
    "    \n",
    "    x = int(input(\"enter the first number:\"))\n",
    "    y = int(input(\"enter the second number:\"))\n",
    "    z = int(input(\"enter the third number:\"))\n",
    "    \n",
    "    sum = x + y\n",
    "    result = sum * z\n",
    "    return result\n",
    "\n",
    "add_and_multiply(\"x\",\"y\",\"z\")\n",
    "\n",
    "    "
   ]
  },
  {
   "cell_type": "markdown",
   "id": "000f4b45",
   "metadata": {},
   "source": [
    "## Module 3 Review"
   ]
  },
  {
   "cell_type": "markdown",
   "id": "f414038b",
   "metadata": {},
   "source": [
    "#### COMPARISON AND BOOLEAN OPERATORS\n",
    "\n",
    "Comparison operators compare two values to each other and return a result based on that comparison (either true or false). The comparison operators you have available are as follows:\n",
    "\n",
    "    == : equal to\n",
    "    != : not equal to\n",
    "    >  : greater than\n",
    "    <  : less than\n",
    "    >= : greater than or equal to\n",
    "    <= : less than or equal to\n",
    "    \n",
    "For example, x = 10 and y = 14, see below for the following comparison results:\n",
    "\n",
    "       x == y >> FALSE\n",
    "       x != y >> TRUE\n",
    "       x > y >> FALSE\n",
    "       x < y >> TRUE\n",
    "       x >= y >> FALSE\n",
    "       x <= y >> TRUE\n",
    "    \n",
    "1. Create 5 conditions that produce a FALSE result\n",
    "2. Create 5 conditions that produce a TRUE result"
   ]
  },
  {
   "cell_type": "code",
   "execution_count": 14,
   "id": "7b0e7cd2",
   "metadata": {},
   "outputs": [
    {
     "name": "stdout",
     "output_type": "stream",
     "text": [
      "enter a number between 1 to 10: 100000\n",
      "false\n"
     ]
    }
   ],
   "source": [
    "#Create 5 conditions that produce a FALSE result \n",
    "\n",
    "condition = int(input(\"enter a number between 1 to 10: \"))\n",
    "def false_result(statement):\n",
    "    if statement > 10 or statement < 10:\n",
    "        print(\"false\")\n",
    "    elif statement >= 10:\n",
    "        print(\"false\")\n",
    "    elif statement <= 10:\n",
    "        print (\"false\")\n",
    "    elif statement == 10:\n",
    "        print(\"false\")\n",
    "    elif statement != 10:\n",
    "        print(\"false\")\n",
    "    else:\n",
    "        print(\"every condition in this code is false\")\n",
    "        \n",
    "false_result(condition)"
   ]
  },
  {
   "cell_type": "code",
   "execution_count": 20,
   "id": "289db9c8",
   "metadata": {},
   "outputs": [
    {
     "name": "stdout",
     "output_type": "stream",
     "text": [
      "enter whatever number you like: 21314124234\n",
      "true\n"
     ]
    }
   ],
   "source": [
    "#Create 5 conditions that produce a TRUE result\n",
    "\n",
    "condition = int(input(\"enter whatever number you like: \"))\n",
    "def true_result(statement):\n",
    "    if statement > 1000000000000 or statement < 1000000000000:\n",
    "        print(\"true\")\n",
    "    elif statement >= 1000000000000:\n",
    "        print(\"true\")\n",
    "    elif statement <= 1000000000000:\n",
    "        print (\"true\")\n",
    "    elif statement == 1000000000000:\n",
    "        print(\"true\")\n",
    "    elif statement != 1000000000000:\n",
    "        print(\"true\")\n",
    "    else:\n",
    "        print(\"every condition in this code is true\")\n",
    "        \n",
    "true_result(condition)"
   ]
  },
  {
   "cell_type": "markdown",
   "id": "66b6fa06",
   "metadata": {},
   "source": [
    "#### CONDITIONAL STATEMENTS\n",
    "\n",
    "Conditional statements check a statement for truth and executes a specific task depending on if the statement is true or false. Conditional statements include:\n",
    "\n",
    "    IF >> if \n",
    "    ELSE >> else\n",
    "    ELIF >> else if "
   ]
  },
  {
   "cell_type": "markdown",
   "id": "e2fd1d7e",
   "metadata": {},
   "source": [
    "#### IF STATEMENTS\n",
    "\n",
    "The IF statement checks a statement for truth, if the statement is true a specific task will be executed\n",
    "\n",
    "1. Run the code in the first example\n",
    "2. Create your own IF statement that prints a number if it is higher than 100\n",
    "3. Create an IF statement that adds 10 to a number if it is higher than 100; print the sum of the two numbers. "
   ]
  },
  {
   "cell_type": "code",
   "execution_count": 31,
   "id": "65265c00",
   "metadata": {},
   "outputs": [
    {
     "name": "stdout",
     "output_type": "stream",
     "text": [
      "You are older than 18.\n"
     ]
    }
   ],
   "source": [
    "## EXAMPLE\n",
    "\n",
    "age = 28\n",
    "\n",
    "if age > 18:\n",
    "    print(\"You are older than 18.\")"
   ]
  },
  {
   "cell_type": "code",
   "execution_count": 32,
   "id": "fe9d34d7",
   "metadata": {},
   "outputs": [
    {
     "name": "stdout",
     "output_type": "stream",
     "text": [
      "120\n"
     ]
    }
   ],
   "source": [
    "#Create your own IF statement that prints a number if it is higher than 100\n",
    "\n",
    "number = 120\n",
    "\n",
    "if number > 100:\n",
    "    print(number)"
   ]
  },
  {
   "cell_type": "code",
   "execution_count": 33,
   "id": "70e1a783",
   "metadata": {},
   "outputs": [
    {
     "name": "stdout",
     "output_type": "stream",
     "text": [
      "120\n"
     ]
    }
   ],
   "source": [
    "#Create an IF statement that adds 10 to a number if it is higher than 100\n",
    "#print the sum of the two numbers.\n",
    "\n",
    "number = 110\n",
    "\n",
    "if number > 100:\n",
    "    print(number+10)"
   ]
  },
  {
   "cell_type": "markdown",
   "id": "35172b2f",
   "metadata": {},
   "source": [
    "#### IF/ELSE STATEMENTS\n",
    "\n",
    "The IF/ELSE statements (when used together), checks a statement for truth - if the statement is true, the task underneath the IF statement will execute. If the statement if false, the task underneath the ELSE statement will execute.\n",
    "\n",
    "1. Run the code in the first example\n",
    "2. Create your own IF/ELSE statement that prints a number if it is higher than 100; if it is lower than 100, print \"Low Number\". \n",
    "3. Create an IF/ELSE statement that adds 10 to a number if it is higher than 100; if it isn't higher than 100, add 100 to the number. Print the sum of the two numbers."
   ]
  },
  {
   "cell_type": "code",
   "execution_count": 34,
   "id": "dba5c370",
   "metadata": {},
   "outputs": [
    {
     "name": "stdout",
     "output_type": "stream",
     "text": [
      "You are younger than 18.\n"
     ]
    }
   ],
   "source": [
    "## EXAMPLE\n",
    "\n",
    "age = 8\n",
    "\n",
    "if age > 18:\n",
    "    print(\"You are older than 18.\")\n",
    "else:\n",
    "    print(\"You are younger than 18.\")"
   ]
  },
  {
   "cell_type": "code",
   "execution_count": 56,
   "id": "57d928e9",
   "metadata": {},
   "outputs": [
    {
     "name": "stdout",
     "output_type": "stream",
     "text": [
      "Low Number\n"
     ]
    }
   ],
   "source": [
    "#Create your own IF/ELSE statement that prints a number if it is higher than 100; \n",
    "#if it is lower than 100, print \"Low Number\".\n",
    "\n",
    "number = 100\n",
    "\n",
    "if number > 100:\n",
    "    print(number)\n",
    "else:\n",
    "    print(\"Low Number\")"
   ]
  },
  {
   "cell_type": "code",
   "execution_count": 60,
   "id": "236f3ddb",
   "metadata": {},
   "outputs": [
    {
     "name": "stdout",
     "output_type": "stream",
     "text": [
      "130\n"
     ]
    }
   ],
   "source": [
    "#Create an IF/ELSE statement that adds 10 to a number if it is higher than 100; \n",
    "#if it isn't higher than 100, add 100 to the number. \n",
    "#Print the sum of the two numbers.\n",
    "\n",
    "number = 120\n",
    "\n",
    "if number > 100:\n",
    "    print(number + 10)\n",
    "else:\n",
    "    print(number + 100)"
   ]
  },
  {
   "cell_type": "markdown",
   "id": "8fda511e",
   "metadata": {},
   "source": [
    "#### ELIF STATEMENTS\n",
    "\n",
    "The ELIF statement is short for \"ELSE IF\" and is a combination of the above statements. ELIF checks another statement for truth (after the initial IF statement) -- if the statement if true, the tasks underneath the ELIF statement will execute. \n",
    "\n",
    "1. Run the code in the first example\n",
    "2. Create your own IF/ELIF/ELSE statement that prints a number if it is higher than 100; if the value is equal to 100 - print \"100\". If both statements are false, print \"less than 100\").\n",
    "3. Create an IF/ELIF/ELSE statement that adds 10 to a number if it is higher than 100; if the number is greater than 50 -- add 20 to the number. If none of the above are true, add 100 to the number. Print the sum of the two numbers. \n"
   ]
  },
  {
   "cell_type": "code",
   "execution_count": 61,
   "id": "274f1c76",
   "metadata": {},
   "outputs": [
    {
     "name": "stdout",
     "output_type": "stream",
     "text": [
      "You ARE currently 18!\n"
     ]
    }
   ],
   "source": [
    "## EXAMPLE\n",
    "\n",
    "age = 18\n",
    "\n",
    "if age > 18:\n",
    "    print(\"You are older than 18.\")\n",
    "elif age == 18:\n",
    "    print(\"You ARE currently 18!\")\n",
    "else:\n",
    "    print(\"You are younger than 18.\")"
   ]
  },
  {
   "cell_type": "code",
   "execution_count": null,
   "id": "f34a0f17",
   "metadata": {},
   "outputs": [],
   "source": [
    "#Create your own IF/ELIF/ELSE statement that prints a number if it is higher than 100; \n",
    "#if the value is equal to 100 - print \"100\".\n",
    "#If both statements are false, print \"less than 100\")."
   ]
  },
  {
   "cell_type": "code",
   "execution_count": 72,
   "id": "5a085b63",
   "metadata": {},
   "outputs": [
    {
     "name": "stdout",
     "output_type": "stream",
     "text": [
      "enter a number: 95\n",
      "less than 100.\n"
     ]
    }
   ],
   "source": [
    "value = int(input(\"enter a number: \"))\n",
    "def number(statement):\n",
    "    if statement > 100:\n",
    "        print(statement)\n",
    "    elif statement == 100:\n",
    "        print(\"100\")\n",
    "    elif statement < 100:\n",
    "        print(\"less than 100.\")\n",
    "    else:\n",
    "        print(\"enter another number. \")\n",
    "        return(f\"make sure it's more than 100 this time. \")\n",
    "number(value)"
   ]
  },
  {
   "cell_type": "markdown",
   "id": "672c3909",
   "metadata": {},
   "source": [
    "#### LISTS\n",
    "\n",
    "Lists are a unique data type within Python. Lists are ordered and changeable -- which means you can index a list and you can add/remove values from a list. A list is a collection of values all saved together into a single variable. Lists can contain multiple data types within a single list. All values within a list are separated by a comma. Lists are defined by square brackets. \n",
    "\n",
    "    list_name = [value1, value2, value3...]\n",
    "    \n",
    "Complete the code below to define a series of lists. "
   ]
  },
  {
   "cell_type": "code",
   "execution_count": 2,
   "id": "cb76e8cb",
   "metadata": {},
   "outputs": [
    {
     "name": "stdout",
     "output_type": "stream",
     "text": [
      "['Rose', 'Lily', 'Poppy', 'Sunflower', 'Gumamela']\n"
     ]
    }
   ],
   "source": [
    "## add two values to the following list of flowers\n",
    "# print the list\n",
    "\n",
    "flowers = [\"Rose\", \"Lily\", \"Poppy\", \"Sunflower\", \"Gumamela\"]\n",
    "print(flowers)"
   ]
  },
  {
   "cell_type": "code",
   "execution_count": 3,
   "id": "75e5258f",
   "metadata": {},
   "outputs": [
    {
     "name": "stdout",
     "output_type": "stream",
     "text": [
      "['Jack', 'Max', 'Leo', 'Harper', 'Sam']\n"
     ]
    }
   ],
   "source": [
    "## fix the code below to define a list of names\n",
    "# print the list\n",
    "\n",
    "names = [\"Jack\", \"Max\", \"Leo\", \"Harper\", \"Sam\"]\n",
    "print(names)"
   ]
  },
  {
   "cell_type": "code",
   "execution_count": 4,
   "id": "4b4faa85",
   "metadata": {},
   "outputs": [
    {
     "name": "stdout",
     "output_type": "stream",
     "text": [
      "[]\n"
     ]
    }
   ],
   "source": [
    "## use the space below to create a blank list\n",
    "# print the list to make sure its blank\n",
    "\n",
    "list = []\n",
    "print(list)"
   ]
  },
  {
   "cell_type": "markdown",
   "id": "baa974bd",
   "metadata": {},
   "source": [
    "#### LIST INDEXING AND SLICING\n",
    "\n",
    "Indexing a list works similarly to indexing a list - you are specifically asking to see the value within a specific location. A list index is still zero-based. See below for a list of colors. Next to each color is the index value.\n",
    "\n",
    "    colors = [red-0, yellow-1, blue-2]\n",
    "\n",
    "To index, you will state the name of your list and then within square brackets, specify the location you want to see. \n",
    "\n",
    "    colors[0] >> \"red-0\"\n",
    "    colors[1] >> \"yellow-1\"\n",
    "    colors[2] >> \"blue-2\"\n",
    "    \n",
    "Slicing a list returns a specific segment of the list instead of just returning a specific value in a specific index position. Slicing will return all the values of a list from a starting index location up to (<b>but not including</b>) an ending index location. Slicing uses square brackets and follows the pattern below:\n",
    "\n",
    "    list_name[starting point : ending point]\n",
    "    \n",
    "Slicing will literally give you a slice of the list. See below for an example using the colors list. \n",
    "\n",
    "    colors[0:2] >> red-0, yellow-1\n",
    "    colors[0:3] >> red-0, yellow-1, blue-2\n",
    "    \n",
    "1. Create a list of objects you find around your house. Have at least 6 values in the list. Print the list. \n",
    "2. What value is at position 4 in your list?\n",
    "3. What value is at position 0 in your list?\n",
    "4. Slice your list so you return all values except for the last two."
   ]
  },
  {
   "cell_type": "code",
   "execution_count": 23,
   "id": "f4416196",
   "metadata": {},
   "outputs": [],
   "source": [
    "#Create a list of objects you find around your house. Have at least 6 values in the list. Print the li\n",
    "my_list = [\"glass-0\", \"door-1\", \"broom-2\", \"slippers-3\", \"chair-4\", \"table-5\"]"
   ]
  },
  {
   "cell_type": "code",
   "execution_count": 25,
   "id": "78068227",
   "metadata": {},
   "outputs": [
    {
     "name": "stdout",
     "output_type": "stream",
     "text": [
      "chair-4\n"
     ]
    }
   ],
   "source": [
    "#What value is at position 4 in your list?\n",
    "print(my_list[4])"
   ]
  },
  {
   "cell_type": "code",
   "execution_count": 26,
   "id": "7a8f7320",
   "metadata": {},
   "outputs": [
    {
     "name": "stdout",
     "output_type": "stream",
     "text": [
      "glass-0\n"
     ]
    }
   ],
   "source": [
    "#What value is at position 0 in your list?\n",
    "print(my_list[0])"
   ]
  },
  {
   "cell_type": "markdown",
   "id": "3c69d12a",
   "metadata": {},
   "source": [
    "#### ADDING VALUES TO A LIST\n",
    "\n",
    "Lists are changeable, which means you can add values to a list after you have defined the list initially. \n",
    "\n",
    "The .append() function will add a single value to the end of your list. This function can only add one value at a time, and it will always attach to the end. To use the function, see an example below:\n",
    "\n",
    "    list_name.append( new_item_to_add )\n",
    "    \n",
    "    colors.append(\"green-3\")\n",
    "    \n",
    "The .insert() function will add a single value to a specific index-position within your list. Unlike the append function, this means the item your adding won't automatically be attached to the end. To use the function, see an example below:\n",
    "\n",
    "    list_name.insert( index-position, new_item_to_add )\n",
    "    \n",
    "    colors.insert(0, \"green-3\")\n",
    "\n",
    "The .extend() function allows you to add multiple values to a list at one time. This is the function to use if you don't want to add values one by one. To use the function, you first have to create a separate list of the values you want to add. Then, you will use the .extend() function to add all the values on the list onto the end of the existing list. See below for an example:\n",
    "\n",
    "    new_list = [\"new_value1\", \"new_value2\", \"new_value3\"...]\n",
    "    list_name.extend( new_list )\n",
    "    \n",
    "    \n",
    "    new_colors = [\"green-3\", \"purple-4\"]\n",
    "    colors.extend(new_colors)\n",
    "    \n",
    "1. Create a list of shapes below. This list should have at least 3 values. Print the list. \n",
    "2. Use the append function to add a shape to your list. Print the list.\n",
    "3. Use the insert function to add a shape to your list. This shape should be inserted in index position 2. Print the list.\n",
    "4. Use the extend function to add 3 additional shapes to your list. Print the list. "
   ]
  },
  {
   "cell_type": "code",
   "execution_count": 30,
   "id": "bdba2f86",
   "metadata": {},
   "outputs": [
    {
     "name": "stdout",
     "output_type": "stream",
     "text": [
      "['circle', 'rectangle', 'square', 'diamond']\n"
     ]
    }
   ],
   "source": [
    "#Create a list of shapes below. This list should have at least 3 values. Print the list.\n",
    "\n",
    "shape_list = [\"circle\", \"rectangle\", \"square\", \"diamond\"]\n",
    "print(shape_list)"
   ]
  },
  {
   "cell_type": "code",
   "execution_count": 31,
   "id": "baa7734e",
   "metadata": {},
   "outputs": [
    {
     "name": "stdout",
     "output_type": "stream",
     "text": [
      "['circle', 'rectangle', 'square', 'diamond', 'triangle']\n"
     ]
    }
   ],
   "source": [
    "#Use the append function to add a shape to your list. Print the list.\n",
    "\n",
    "shape_list.append(\"triangle\")\n",
    "\n",
    "print(shape_list)"
   ]
  },
  {
   "cell_type": "code",
   "execution_count": 32,
   "id": "7c4290e5",
   "metadata": {},
   "outputs": [
    {
     "name": "stdout",
     "output_type": "stream",
     "text": [
      "['circle', 'rectangle', 'square', 'diamond', 'triangle', 'rhombus']\n"
     ]
    }
   ],
   "source": [
    "#Use the insert function to add a shape to your list. \n",
    "#This shape should be inserted in index position 2. Print the list.\n",
    "\n",
    "shape_list.insert(5, \"rhombus\")\n",
    "\n",
    "print(shape_list)"
   ]
  },
  {
   "cell_type": "code",
   "execution_count": 33,
   "id": "811fe304",
   "metadata": {},
   "outputs": [
    {
     "name": "stdout",
     "output_type": "stream",
     "text": [
      "['circle', 'rectangle', 'square', 'diamond', 'triangle', 'rhombus', 'pentagon', 'hexagon', 'octagon']\n"
     ]
    }
   ],
   "source": [
    "#Use the extend function to add 3 additional shapes to your list. Print the list.\n",
    "\n",
    "new_shape_list = [\"pentagon\", \"hexagon\", \"octagon\"]\n",
    "\n",
    "shape_list.extend(new_shape_list)\n",
    "\n",
    "print(shape_list)"
   ]
  },
  {
   "cell_type": "markdown",
   "id": "3a61113f",
   "metadata": {},
   "source": [
    "# { Module 3 Quiz }\n",
    "\n",
    "1. Create 3 conditions that produce a false result. Create 3 conditions that produce a true result.\n",
    "2. Ask the user for a specific color and store the value into a variable. If the color is Blue, print \"Blue is a calming color\". If the color is Red, print \"Red is a fiery color\". Otherwise, print \"All colors are beautiful\".\n",
    "3. Create a list of 5 fictional characters. Print the list. \n",
    "4. Ask the user for a specific number between 1 and 10. If the number is less than 3, print 'low value'. If the number is greater than 7, print 'high number'. Otherwise, print 'thank you'.\n",
    "5. Create a function that determines if a student passed or failed a test. Ask the user for their test score, if the value is below 70, print 'You failed'. If the value is 70 or above, print 'You passed'. If the value is above 100 or below 0, print 'Please enter a valid number'. "
   ]
  },
  {
   "cell_type": "code",
   "execution_count": 36,
   "id": "6c34d4fd",
   "metadata": {},
   "outputs": [
    {
     "name": "stdout",
     "output_type": "stream",
     "text": [
      "false\n"
     ]
    }
   ],
   "source": [
    "#Create 3 conditions that produce a false result.\n",
    "\n",
    "if 3 > 10:\n",
    "    print(\"false\")\n",
    "elif 4 > 5:\n",
    "    print(\"false\")\n",
    "elif 4 == 10:\n",
    "    print(\"false\")\n",
    "else:\n",
    "    print(\"all these condtions are false results\")"
   ]
  },
  {
   "cell_type": "code",
   "execution_count": 1,
   "id": "492535c7",
   "metadata": {},
   "outputs": [
    {
     "name": "stdout",
     "output_type": "stream",
     "text": [
      "true\n"
     ]
    }
   ],
   "source": [
    "#Create 3 conditions that produce a true result.\n",
    "if 3 < 10:\n",
    "    print(\"true\")\n",
    "elif 4 > 5:\n",
    "    print(\"true\")\n",
    "elif 4 == 4:\n",
    "    print(\"true\")\n",
    "else:\n",
    "    print(\"all these condtions are true results\")"
   ]
  },
  {
   "cell_type": "code",
   "execution_count": 4,
   "id": "8d7dda86",
   "metadata": {},
   "outputs": [
    {
     "name": "stdout",
     "output_type": "stream",
     "text": [
      "enter a color of your choice: red\n",
      "red is a fiery color\n"
     ]
    }
   ],
   "source": [
    "#Ask the user for a specific color and store the value into a variable. \n",
    "#If the color is Blue, print \"Blue is a calming color\". \n",
    "#If the color is Red, print \"Red is a fiery color\". Otherwise, print \"All colors are beautiful\".\n",
    "\n",
    "condition = str(input(\"enter a color of your choice: \"))\n",
    "\n",
    "def user_color(choice):\n",
    "    if choice == \"blue\":\n",
    "        print(\"blue is a calming color\")\n",
    "    elif choice == \"red\":\n",
    "        print(\"red is a fiery color\")\n",
    "    else:\n",
    "        (\"All colors are beautiful.\")\n",
    "        \n",
    "user_color(condition)"
   ]
  },
  {
   "cell_type": "code",
   "execution_count": 5,
   "id": "b681a7de",
   "metadata": {},
   "outputs": [
    {
     "name": "stdout",
     "output_type": "stream",
     "text": [
      "['goku', 'vegeta', 'trunks', 'gogeta', 'broly']\n"
     ]
    }
   ],
   "source": [
    "#Create a list of 5 fictional characters. Print the list\n",
    "\n",
    "fictional_characters = [\"goku\",\"vegeta\",\"trunks\",\"gogeta\",\"broly\"]\n",
    "\n",
    "print(fictional_characters)"
   ]
  },
  {
   "cell_type": "code",
   "execution_count": 8,
   "id": "37a9ef51",
   "metadata": {},
   "outputs": [
    {
     "name": "stdout",
     "output_type": "stream",
     "text": [
      "enter a number between 1 to 10 7\n",
      "thank you\n"
     ]
    },
    {
     "data": {
      "text/plain": [
       "'come again another day'"
      ]
     },
     "execution_count": 8,
     "metadata": {},
     "output_type": "execute_result"
    }
   ],
   "source": [
    "#Ask the user for a specific number between 1 and 10. \n",
    "#If the number is less than 3, print 'low value'. \n",
    "#If the number is greater than 7, print 'high number'. Otherwise, print 'thank you'.\n",
    "\n",
    "import random as rand\n",
    "\n",
    "num = rand.randint(1,10)\n",
    "\n",
    "condition = int(input(\"enter a number between 1 to 10 \"))\n",
    "\n",
    "def user_choice(number):\n",
    "    if number < 3:\n",
    "        print(\"low value\")\n",
    "    elif number > 7:\n",
    "        print(\"high number\")\n",
    "    else:\n",
    "        print(\"thank you\")\n",
    "        return (\"come again another day\")\n",
    "\n",
    "user_choice(condition)\n",
    "\n"
   ]
  },
  {
   "cell_type": "code",
   "execution_count": 15,
   "id": "58e4e32e",
   "metadata": {},
   "outputs": [
    {
     "name": "stdout",
     "output_type": "stream",
     "text": [
      "enter a grade for the student: -10\n",
      "YOU FAILED!\n"
     ]
    }
   ],
   "source": [
    "#Create a function that determines if a student passed or failed a test. \n",
    "#Ask the user for their test score, if the value is below 70, print 'You failed'. \n",
    "#If the value is 70 or above, print 'You passed'. \n",
    "#If the value is above 100 or below 0, print 'Please enter a valid number'.\n",
    "\n",
    "condition = int(input(\"enter a grade for the student: \"))\n",
    "\n",
    "def student_pass_or_fail(score):\n",
    "    if score < 70:\n",
    "        print(\"YOU FAILED!\")\n",
    "    elif score > 70:\n",
    "        print(\"YOU PASSED!\")\n",
    "    elif score > 100 or score < 0:\n",
    "        print(\"Please enter a valid number.\")\n",
    "    else:\n",
    "        print(\"Study hard.\")\n",
    "        return( \"Consistency is Key!\")\n",
    "    \n",
    "student_pass_or_fail(condition)"
   ]
  },
  {
   "cell_type": "markdown",
   "id": "e637bcf4",
   "metadata": {},
   "source": [
    "## Advanced Review\n",
    "\n",
    "Complete the exercises below. These exercises cover topics from all the modules covered in the class thus far, not just the items reviewed in this notebook. Each exercise should be completed in its own cell (or multiple cells). \n",
    "\n",
    "*****************************\n",
    "\n",
    "1.\tCreate a program that asks the user to enter their name and their age. Print out a message addressed to them that tells them the year that they will turn 100 years old.\n",
    "2.\tAsk the user for a number. Depending on whether the number is even or odd, print out an appropriate message to the user.\n",
    "3.\tTake a list and write a program that prints out all the elements of the list that are less than 5. BONUS: Instead of printing the elements one by one, make a new list that has all the elements less than 5 from this list in it and print out this new list.\n",
    "4.\tGenerate a random number between 1 and 9 (including 1 and 9). Ask the user to guess the number, then tell them whether they guessed too low, too high, or exactly right. BONUS: Keep the game going until the user types “exit”\n",
    "5.\tWrite a program that takes a list of numbers (for example, a = [5, 10, 15, 20, 25]) and makes a new list of only the first and last elements of the given list.\n",
    "6.\tWrite a password generator in Python. Be creative with how you generate passwords - strong passwords have a mix of lowercase letters, uppercase letters, numbers, and symbols. The passwords should be random, generating a new password every time the user asks for a new password.\n"
   ]
  },
  {
   "cell_type": "code",
   "execution_count": 2,
   "id": "71253269",
   "metadata": {},
   "outputs": [],
   "source": [
    "#Create a program that asks the user to enter their name and their age. \n",
    "#Print out a message addressed to them that tells them the year that they will turn 100 years old"
   ]
  },
  {
   "cell_type": "code",
   "execution_count": 22,
   "id": "bc712ee4",
   "metadata": {},
   "outputs": [
    {
     "name": "stdout",
     "output_type": "stream",
     "text": [
      "What is your name? aj\n",
      "How old are you? 29\n",
      "Hello aj, you will turn 100 in 2093.\n"
     ]
    }
   ],
   "source": [
    "name = input(\"What is your name? \")\n",
    "age = int(input(\"How old are you? \"))\n",
    "\n",
    "year = 1993 + age + 71\n",
    "\n",
    "print(f\"Hello {name}, you will turn 100 in {year}.\")"
   ]
  },
  {
   "cell_type": "code",
   "execution_count": 3,
   "id": "bedda0d3",
   "metadata": {},
   "outputs": [
    {
     "name": "stdout",
     "output_type": "stream",
     "text": [
      "8\n",
      "this is a even number.\n"
     ]
    }
   ],
   "source": [
    "#Ask the user for a number. \n",
    "#Depending on whether the number is even or odd, print out an appropriate message to the user.\n",
    "\n",
    "import random as rand\n",
    "\n",
    "x = rand.randint(1,10)\n",
    "\n",
    "def number_choice(num):\n",
    "    if num % 2 == 0 :\n",
    "        print(num)\n",
    "        print(\"this is a even number.\")\n",
    "    else:\n",
    "        (\"this is a odd number.\")\n",
    "        \n",
    "number_choice(x)"
   ]
  },
  {
   "cell_type": "code",
   "execution_count": 8,
   "id": "a9bfd4fe",
   "metadata": {},
   "outputs": [
    {
     "name": "stdout",
     "output_type": "stream",
     "text": [
      "1\n",
      "1\n",
      "2\n",
      "3\n",
      "[1, 1, 2, 3]\n",
      "[1, 1, 2, 3]\n"
     ]
    }
   ],
   "source": [
    "# Take a list and write a program that prints out all the elements of the list that are less than 5. \n",
    "# BONUS: Instead of printing the elements one by one, \n",
    "# make a new list that has all the elements less than 5 from this list in it and print out this new list.\n",
    "\n",
    "#Take a list, say for example this one: a = [1, 1, 2, 3, 5, 8, 13, 21, 34, 55, 89]\n",
    "#and write a program that prints out all the elements of the list that are less than 5.\n",
    "a = [1, 1, 2, 3, 5, 8, 13, 21, 34, 55, 89]\n",
    "for i in a:\n",
    "    if i < 5:\n",
    "        print(i)\n",
    "\n",
    "#Instead of printing the elements one by one, make a new list that has all the elements less than 5 from\n",
    "#this list in it and print out this new list.\n",
    "a = [1, 1, 2, 3, 5, 8, 13, 21, 34, 55, 89]\n",
    "b = []\n",
    "for i in a:\n",
    "    if i < 5:\n",
    "        b.append(i)\n",
    "print(b)\n",
    "\n",
    "#Write this in one line of Python. \n",
    "a = [1, 1, 2, 3, 5, 8, 13, 21, 34, 55, 89]\n",
    "b = []\n",
    "[b.append(i) for i in a if i < 5]\n",
    "print(b)"
   ]
  },
  {
   "cell_type": "code",
   "execution_count": 2,
   "id": "18d92689",
   "metadata": {},
   "outputs": [
    {
     "name": "stdout",
     "output_type": "stream",
     "text": [
      "Please guess a number between 1 and 9. When you want to end the game print exit: 9\n",
      "You rock! You've got it at the first try!\n"
     ]
    }
   ],
   "source": [
    "#Generate a random number between 1 and 9 (including 1 and 9). \n",
    "#Ask the user to guess the number, then tell them whether they guessed too low, too high, or exactly right. \n",
    "#BONUS: Keep the game going until the user types “exit”\n",
    "\n",
    "import random\n",
    "\n",
    "number = random.randrange(1, 10)\n",
    "guess = 0\n",
    "count = 0\n",
    "\n",
    "#!= means NOT EQUAL TO\n",
    "\n",
    "while guess != number and guess != \"exit\":\n",
    "    guess = input(\"Please guess a number between 1 and 9. When you want to end the game print exit: \")\n",
    "\n",
    "    if guess == \"exit\":\n",
    "        print(\"Game Over\")\n",
    "        break\n",
    "        \n",
    "# += operator is a convenient way to add a value to a variable. It is often used in loops and other repetitive code.\n",
    "\n",
    "    guess = int(guess)\n",
    "    count += 1\n",
    "    if guess not in range(1, 10):\n",
    "        print(\"You have to guess a number between 1 and 9!\")\n",
    "    elif guess < number:\n",
    "        print(\"You've guessed too low!\")\n",
    "    elif guess > number:\n",
    "        print(\"You've guessed too high!\")\n",
    "    else:\n",
    "        if count == 1:\n",
    "            print(\"You rock! You've got it at the first try!\")\n",
    "        elif count <= 3:\n",
    "            print(\"Well done! You've got it in just {} tries\".format(count))\n",
    "        elif count > 3:\n",
    "            print(\"You've got it! It took you {} tries!\".format(count))"
   ]
  },
  {
   "cell_type": "code",
   "execution_count": 18,
   "id": "449f7a2d",
   "metadata": {},
   "outputs": [
    {
     "name": "stdout",
     "output_type": "stream",
     "text": [
      "[1, 8]\n"
     ]
    }
   ],
   "source": [
    "#Write a program that takes a list of numbers (for example, a = [5, 10, 15, 20, 25]) \n",
    "#and makes a new list of only the first and last elements of the given list.\n",
    "\n",
    "list = [1,2,3,4,5,6,7,8]\n",
    "\n",
    "def first_last(input_list):\n",
    "    return [input_list[0], input_list[7]]\n",
    "\n",
    "print(first_last(list))"
   ]
  },
  {
   "cell_type": "code",
   "execution_count": 15,
   "id": "be999c41",
   "metadata": {},
   "outputs": [
    {
     "name": "stdout",
     "output_type": "stream",
     "text": [
      "rwedMA*(\n"
     ]
    }
   ],
   "source": [
    "#Write a password generator in Python. \n",
    "#Be creative with how you generate passwords - strong passwords have a mix of lowercase letters, uppercase letters, numbers, and symbols. \n",
    "#The passwords should be random, generating a new password every time the user asks for a new password.\n",
    "\n",
    "import random as rand\n",
    "\n",
    "# Define the alphabet\n",
    "alphabet = \"abcdefghijklmnopqrstuvwxyzABCDEFGHIJKLMNOPQRSTUVWXYZ0123456789!@#$%^&*()\"\n",
    "\n",
    "# Fix the length of the password\n",
    "password_length = 8\n",
    "\n",
    "# Generate a password\n",
    "password = \"\".join(random.choice(alphabet) for _ in range(password_length))\n",
    "\n",
    "# Print the password\n",
    "print(password)"
   ]
  },
  {
   "cell_type": "code",
   "execution_count": 16,
   "id": "943bcc9a",
   "metadata": {},
   "outputs": [
    {
     "name": "stdout",
     "output_type": "stream",
     "text": [
      "Enter the length of the password: 20\n",
      "2fogxtf2reqVsLWISM44\n"
     ]
    }
   ],
   "source": [
    "#I can do it this way too\n",
    "\n",
    "import random as rand\n",
    "\n",
    "# Define the alphabet\n",
    "alphabet = \"abcdefghijklmnopqrstuvwxyzABCDEFGHIJKLMNOPQRSTUVWXYZ0123456789\"\n",
    "\n",
    "# Get the length of the password\n",
    "length = int(input(\"Enter the length of the password: \"))\n",
    "\n",
    "# Generate the password\n",
    "password = \"\"\n",
    "for i in range(length):\n",
    "    password += random.choice(alphabet)\n",
    "\n",
    "# Print the password\n",
    "print(password)\n",
    "\n"
   ]
  },
  {
   "cell_type": "code",
   "execution_count": null,
   "id": "07a86079",
   "metadata": {},
   "outputs": [],
   "source": []
  }
 ],
 "metadata": {
  "kernelspec": {
   "display_name": "Python 3 (ipykernel)",
   "language": "python",
   "name": "python3"
  },
  "language_info": {
   "codemirror_mode": {
    "name": "ipython",
    "version": 3
   },
   "file_extension": ".py",
   "mimetype": "text/x-python",
   "name": "python",
   "nbconvert_exporter": "python",
   "pygments_lexer": "ipython3",
   "version": "3.9.13"
  }
 },
 "nbformat": 4,
 "nbformat_minor": 5
}
